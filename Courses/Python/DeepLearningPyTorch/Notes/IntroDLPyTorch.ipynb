{
  "nbformat": 4,
  "nbformat_minor": 0,
  "metadata": {
    "colab": {
      "provenance": [],
      "toc_visible": true
    },
    "kernelspec": {
      "name": "python3",
      "display_name": "Python 3"
    },
    "language_info": {
      "name": "python"
    }
  },
  "cells": [
    {
      "cell_type": "markdown",
      "source": [
        "#Chapter 1: Intro to PyTorch\n"
      ],
      "metadata": {
        "id": "yAz4OPpWq0cb"
      }
    },
    {
      "cell_type": "markdown",
      "source": [
        "##Deep learning\n",
        "\n",
        "Extracts intricate patterns from large sets of unstructured data,<br>\n",
        "(usually at least 100,000 data points)i.e. they can discover features <br>\n",
        "from raw data. This is known as feature learning or representation learning.<br>\n",
        "\n",
        "Raw data can be in the form of:\n",
        "<ul>\n",
        "  <li>Image pixels</li>\n",
        "  <li>Text/characters</li>\n",
        "  <li>Audio signals</li>\n",
        "</ul>\n",
        "\n",
        "\n",
        "Deep learning examples:\n",
        "<ul>\n",
        "  <li>Language translation</li>\n",
        "  <li>Self-driving cars</li>\n",
        "  <li>Medical diagnostics</li>\n",
        "  <li>Chatbots</li>\n",
        "</ul>"
      ],
      "metadata": {
        "id": "-pQLnMpYrD8v"
      }
    },
    {
      "cell_type": "markdown",
      "source": [
        "##PyTorch\n",
        "\n",
        "Shares much with Numpy.<br>\n",
        "\n",
        "PyTorch supports:\n",
        "<ul>\n",
        "  <li>image data: torchvision</li>\n",
        "  <li>audio data: torchaudio</li>\n",
        "  <li>text data: torchtext</li>\n",
        "</ul>\n",
        "\n"
      ],
      "metadata": {
        "id": "2RLdrpNQuNbu"
      }
    },
    {
      "cell_type": "markdown",
      "source": [
        "###Tensor\n",
        "\n",
        "Fundamental data structure in PyTorch. Can be created from python lists,<br>\n",
        "or numpy arrays. Tensors also have various attributes:\n",
        "\n"
      ],
      "metadata": {
        "id": "R0Xb6piBvQk5"
      }
    },
    {
      "cell_type": "code",
      "execution_count": null,
      "metadata": {
        "colab": {
          "base_uri": "https://localhost:8080/"
        },
        "id": "oowObmMwqvJk",
        "outputId": "c0c35d95-0d64-4329-f72f-0526649c92e3"
      },
      "outputs": [
        {
          "output_type": "stream",
          "name": "stdout",
          "text": [
            "tensor([[1, 2, 3],\n",
            "        [4, 5, 6]])\n",
            "torch.Size([2, 3])\n",
            "torch.int64\n",
            "cpu\n"
          ]
        }
      ],
      "source": [
        "import torch\n",
        "\n",
        "lst = [[1,2,3],[4,5,6]]\n",
        "tensor= torch.tensor(lst)\n",
        "print(tensor)\n",
        "print(tensor.shape)\n",
        "print(tensor.dtype)\n",
        "print(tensor.device)"
      ]
    },
    {
      "cell_type": "markdown",
      "source": [
        "Tensors support various operations:\n",
        "<ul>\n",
        "  <li>addition/subtraction</li>\n",
        "  <li>element-wise multiplication</li>\n",
        "  <li>matrix multiplication</li>\n",
        "  <li>Transposition</li>\n",
        "  <li>Concatenation</li>\n",
        "</ul>\n",
        "\n",
        "Most NumPy array operations can be performed on PyTorch Tensors."
      ],
      "metadata": {
        "id": "vrc7_Cg2v37s"
      }
    },
    {
      "cell_type": "markdown",
      "source": [
        "##First neural network\n",
        "\n",
        "NNs can have any number of hidden layers. For this example just using 2-layer<br>\n",
        "(no hidden layers)\n"
      ],
      "metadata": {
        "id": "CQ_xiuj9xXQA"
      }
    },
    {
      "cell_type": "code",
      "source": [
        "import pandas as pd\n",
        "import numpy as np\n",
        "import torch\n",
        "import torch.nn as nn\n",
        "\n",
        "#test_df = pd.read_csv('sample_data/music_clean.csv')\n",
        "#print(test_df.drop(['popularity', 'energy'],axis=1))\n",
        "\n",
        "#Create input tensor with three features\n",
        "input_tensor = torch.tensor([[0.3471, 0.4547, -0.2356]])\n",
        "\n",
        "#Define first linear layer\n",
        "linear_layer = nn.Linear(in_features=3, out_features=2)\n",
        "\n",
        "#Pass input through linear layer\n",
        "output = linear_layer(input_tensor)\n",
        "print(output)\n",
        "\n",
        "#Each linear layer has a set of associated weights and biases\n",
        "linear_layer.weight\n",
        "linear_layer.bias"
      ],
      "metadata": {
        "colab": {
          "base_uri": "https://localhost:8080/"
        },
        "id": "ZMOTtOICvjHV",
        "outputId": "be0bf90e-5086-4851-ecbd-eae173e94a16"
      },
      "execution_count": 11,
      "outputs": [
        {
          "output_type": "stream",
          "name": "stdout",
          "text": [
            "tensor([[0.3983, 0.2590]], grad_fn=<AddmmBackward0>)\n"
          ]
        },
        {
          "output_type": "execute_result",
          "data": {
            "text/plain": [
              "Parameter containing:\n",
              "tensor([-0.0469,  0.3406], requires_grad=True)"
            ]
          },
          "metadata": {},
          "execution_count": 11
        }
      ]
    },
    {
      "cell_type": "markdown",
      "source": [
        "Process\n",
        "<ul>\n",
        "  <li>Input tensor is passes to the linear layer</li>\n",
        "   <li>Matrix mult. performed on input tensor ($X$) and weights ($W_0$)</li>\n",
        "   <li>Bias ($b_0$) is added in</li>\n",
        "</ul>\n",
        "\n",
        "$y_0 = W_0 \\cdot X + b_0$\n",
        "\n",
        "with PyTorch, this is written as:\n",
        "```python\n",
        "output = W0 @ input + b0\n",
        "```\n",
        "where ```@``` denotes matrix multiplication\n",
        "\n",
        "Note:\n",
        "<ul>\n",
        "  <li>Weights/biases initialized randomly</li>\n",
        "   <li>Not useful until tuned</li>\n",
        "</ul>\n",
        "\n",
        "Networks only consisting of linear layers are called 'fully connected' networks."
      ],
      "metadata": {
        "id": "K8ZTH9As-eIQ"
      }
    },
    {
      "cell_type": "markdown",
      "source": [
        "##nn.Sequential\n",
        "\n",
        "Allows multiple NN modules to be stacked in sequence."
      ],
      "metadata": {
        "id": "d7Eat117AwMK"
      }
    },
    {
      "cell_type": "code",
      "source": [
        "input_tensor = torch.rand(1,10)\n",
        "\n",
        "model = nn.Sequential(\n",
        "    nn.Linear(10,18),\n",
        "    nn.Linear(18,20),\n",
        "    nn.Linear(20,5)\n",
        ")\n",
        "\n",
        "output_tensor = model(input_tensor)\n",
        "print(output_tensor)"
      ],
      "metadata": {
        "id": "PifE_saRmee3",
        "colab": {
          "base_uri": "https://localhost:8080/"
        },
        "outputId": "d3159326-ec9f-4e7f-f351-3ffe90f83908"
      },
      "execution_count": 18,
      "outputs": [
        {
          "output_type": "stream",
          "name": "stdout",
          "text": [
            "tensor([[-0.1918,  0.0442, -0.1650, -0.2251, -0.1409]],\n",
            "       grad_fn=<AddmmBackward0>)\n"
          ]
        }
      ]
    },
    {
      "cell_type": "markdown",
      "source": [
        "##Discovering Activation Functions\n",
        "\n",
        "Activation functions\n",
        "<ul>\n",
        "  <li>Allow NNs to behave non-linearly</li>\n",
        "  <li> i.e. output no longer a linear function of the input</li>\n",
        "  <li>Learn more complex relationships between inputs and targets</li>\n",
        "</ul>\n",
        "\n",
        "Pre-activation output from one layer goes through activation function to become transformed output.<br>\n",
        "\n",
        "\n",
        "\n"
      ],
      "metadata": {
        "id": "lbomNeuFCiFQ"
      }
    },
    {
      "cell_type": "markdown",
      "source": [
        "##Sigmoid Activation Function\n",
        "\n",
        "Widely used as last step for binary classification.<br>\n",
        "Output bounded between $[0,1]$<br>\n",
        "Sigmoid used as last layer in NN with a single linear layer <br>\n",
        "is equivalent to logistic regression in traditional ML."
      ],
      "metadata": {
        "id": "5lMUurVNDlDX"
      }
    },
    {
      "cell_type": "code",
      "source": [
        "import numpy as np\n",
        "import matplotlib.pyplot as plt\n",
        "import math\n",
        "\n",
        "x = np.linspace(-10, 10, 100)\n",
        "z = 1/(1 + np.exp(-x))\n",
        "\n",
        "plt.plot(x, z)\n",
        "plt.xlabel(\"x\")\n",
        "plt.ylabel(\"Sigmoid(X)\")\n",
        "\n",
        "plt.show()\n"
      ],
      "metadata": {
        "colab": {
          "base_uri": "https://localhost:8080/",
          "height": 449
        },
        "id": "ETVKPY5dBlQY",
        "outputId": "b64604d2-7c64-4d90-c5b3-4338b5824419"
      },
      "execution_count": 1,
      "outputs": [
        {
          "output_type": "display_data",
          "data": {
            "text/plain": [
              "<Figure size 640x480 with 1 Axes>"
            ],
            "image/png": "[encoded data removed]"
          },
          "metadata": {}
        }
      ]
    },
    {
      "cell_type": "code",
      "source": [
        "import torch\n",
        "import torch.nn as nn\n",
        "\n",
        "input_tensor = torch.tensor([[6.0]])\n",
        "sigmoid = nn.Sigmoid()\n",
        "output = sigmoid(input_tensor)\n",
        "print(output)\n",
        "\n",
        "model = nn.Sequential(\n",
        "    nn.Linear(6,4),\n",
        "    nn.Linear(4,1),\n",
        "    nn.Sigmoid()\n",
        ")"
      ],
      "metadata": {
        "colab": {
          "base_uri": "https://localhost:8080/"
        },
        "id": "14kUzcQ6Egfq",
        "outputId": "84a4de7d-b150-497a-d32b-d17592768b18"
      },
      "execution_count": 21,
      "outputs": [
        {
          "output_type": "stream",
          "name": "stdout",
          "text": [
            "tensor([[0.9975]])\n"
          ]
        }
      ]
    },
    {
      "cell_type": "markdown",
      "source": [
        "##SoftMax Activation Function\n",
        "<ul>\n",
        "  <li>Usually used for multi-class classification</li>\n",
        "  <li>Can also be used as last layer in nn.Sequential</li>\n",
        "  <li>Takes N-element vactor as input</li>\n",
        "  <li>Outputs vector of same size as input</li>\n",
        "  <li>Outputs a probability distribution</li>\n",
        "  <li>Each element of output vector is a probability b/w $[0,1]$</li>\n",
        "  <li>Sum of the output vector is 1</li>\n",
        "</ul>\n",
        "\n",
        "For $n$-dimensional output vector $\\vec{V}$:\n",
        "$\\sum_{i=1}^{n} v_i = 1$\n"
      ],
      "metadata": {
        "id": "_aljVmxdFrO-"
      }
    },
    {
      "cell_type": "code",
      "source": [
        "import torch\n",
        "import torch.nn as nn\n",
        "\n",
        "input_tensor = torch.tensor([[4.3, 6.1, 2.3]])\n",
        "\n",
        "#Below, dim=-1 indicates softmax is applied to input tensor's last dimension\n",
        "probabilities = nn.Softmax(dim=-1)\n",
        "output_tensor = probabilities(input_tensor)\n",
        "\n",
        "print(output_tensor)"
      ],
      "metadata": {
        "colab": {
          "base_uri": "https://localhost:8080/"
        },
        "id": "GOaT22PRFAAQ",
        "outputId": "23a0b705-9a0f-4bbb-ffb0-cda7c441d3fc"
      },
      "execution_count": 3,
      "outputs": [
        {
          "output_type": "stream",
          "name": "stdout",
          "text": [
            "tensor([[0.1392, 0.8420, 0.0188]])\n"
          ]
        }
      ]
    },
    {
      "cell_type": "markdown",
      "source": [
        "#Chapter 2: Training a NN with PyTorch"
      ],
      "metadata": {
        "id": "VYLdHtnHIdT5"
      }
    },
    {
      "cell_type": "markdown",
      "source": [
        "##Running a Forward Pass\n",
        "\n",
        "Refers to generating a prediction from a model (can also be used for training).\n",
        "<ul>\n",
        "  <li>Input data passed forward (propagated) through a network</li>\n",
        "  <li>Computations performed at each layer (intermediate representation of the data)</li>\n",
        "  <li>Each layer's output passed as input to subsequent layer</li>\n",
        "  <li>Outputs vector of same size as input</li>\n",
        "  <li>Output of the final layer: \"prediction\"</li>\n",
        "</ul>\n",
        "\n",
        "Predictions based on a models learned parameters (weights, biases).<br>\n",
        "\n",
        "Possible outputs\n",
        "<ul>\n",
        "  <li>Binary Classification</li>\n",
        "  <ul>\n",
        "    <li>Single probability between $[0,1]$</li>\n",
        "  </ul>\n",
        "  <li>Multiclass Classification</li>\n",
        "  <ul>\n",
        "    <li>Distibution of probabilities summing to 1</li>\n",
        "  </ul>\n",
        "  <li>Regression values</li>\n",
        "  <ul>\n",
        "    <li>Continuous numerical predictions</li>\n",
        "  </ul>\n",
        "</ul>\n",
        "\n",
        "Note: backward pass (backpropagation) is used to update weights/biases during training.\n",
        "\n",
        "Typical training loop may consist of:\n",
        "<ul>\n",
        "  <li>Propagate data forward</li>\n",
        "  <li>Compare outputs to true values (ground-truth)</li>\n",
        "  <li>Backpropagate: update model weights/biases</li>\n",
        "  <li>Repeat until weights/biases tuned; model produces useful output(s)</li>\n",
        "</ul>\n"
      ],
      "metadata": {
        "id": "u0kB9yJQIglk"
      }
    },
    {
      "cell_type": "markdown",
      "source": [
        "##Loss Functions to Assess Model Predictions\n",
        "\n",
        "Loss function:\n",
        "<ul>\n",
        "  <li>Gives feedback to model during training</li>\n",
        "  <li>Takes in model prediction $\\hat{y}$ and ground-truth $y$</li>\n",
        "  <li>Outputs a float</li>\n",
        "</ul>\n",
        "\n",
        "Goal is to minimize the loss function:<br>\n",
        "\n",
        "$loss = F(y,\\hat{y})$\n",
        "<ul>\n",
        "  <li>$y$ is single integer (class label)</li>\n",
        "  <ul>\n",
        "    <li>e.g. $y=0$ could mean $y$ is a mammal</li>\n",
        "  </ul>\n",
        "  <li>$\\hat{y}$ is a tensor (output of softmax)</li>\n",
        "  <ul>\n",
        "    <li>for $N$ classes, $\\hat{y}$ is $N$-dimensional tensor</li>\n",
        "  </ul>\n",
        "</ul>\n",
        "\n",
        "How to compare $y,\\hat{y}$?"
      ],
      "metadata": {
        "id": "HHKtp4YYO9zo"
      }
    },
    {
      "cell_type": "markdown",
      "source": [
        "##One-Hot Encoding\n",
        "\n",
        "Technique to represent categorical variables as numerical values.<Br>\n",
        "\n",
        "Advantages:\n",
        "<ul>\n",
        "  <li>Allows use of numerical models for categorical data</li>\n",
        "  <li>Can provide more info to the model, improving performance</li>\n",
        "  <li>Can mitigate/avoid problem of ordinality (if var has natural ordering)</li>\n",
        "</ul>\n",
        "\n",
        "Disadvantages:\n",
        "<ul>\n",
        "  <li>Can increase model's: dimensionality, complexity, training time</li>\n",
        "  <li>Can lead to sparse data (many observations will have 0s in most cols)</li>\n",
        "  <li>Can lead to overfitting</li>\n",
        "</ul>"
      ],
      "metadata": {
        "id": "HeEQXTlzQGMN"
      }
    },
    {
      "cell_type": "code",
      "source": [
        "import torch.nn.functional as F\n",
        "\n",
        "print(F.one_hot(torch.tensor(0), num_classes=3))\n",
        "print(F.one_hot(torch.tensor(1), num_classes=3))\n",
        "print(F.one_hot(torch.tensor(2), num_classes=3))"
      ],
      "metadata": {
        "colab": {
          "base_uri": "https://localhost:8080/"
        },
        "id": "h0iaXO9mHsVN",
        "outputId": "cbed1742-2e77-4ba4-e720-6b1155f28163"
      },
      "execution_count": 24,
      "outputs": [
        {
          "output_type": "stream",
          "name": "stdout",
          "text": [
            "tensor([1, 0, 0])\n",
            "tensor([0, 1, 0])\n",
            "tensor([0, 0, 1])\n"
          ]
        }
      ]
    },
    {
      "cell_type": "code",
      "source": [
        "from torch.nn import CrossEntropyLoss\n",
        "\n",
        "scores = torch.tensor([[-0.1211, 0.1059]])\n",
        "one_hot_target = torch.tensor([[1, 0]])\n",
        "\n",
        "criterion = CrossEntropyLoss()\n",
        "criterion(scores.double(), one_hot_target.double())"
      ],
      "metadata": {
        "colab": {
          "base_uri": "https://localhost:8080/"
        },
        "id": "Xp0cf7zTSMCE",
        "outputId": "1579e4e6-ad11-4c7e-fe6b-e954dbac71a7"
      },
      "execution_count": 7,
      "outputs": [
        {
          "output_type": "execute_result",
          "data": {
            "text/plain": [
              "tensor(0.8131, dtype=torch.float64)"
            ]
          },
          "metadata": {},
          "execution_count": 7
        }
      ]
    },
    {
      "cell_type": "markdown",
      "source": [
        "##Loss function summary\n",
        "Loss function takes:\n",
        "\n",
        "<ul>\n",
        "  <li>scores</li>\n",
        "  <ul>\n",
        "    <li>model predictions <b>before</b> the final softmax function</li>\n",
        "  </ul>\n",
        "  <li>one_hot_target</li>\n",
        "  <ul>\n",
        "    <li>one hot encoded ground truth label</li>\n",
        "  </ul>\n",
        "</ul>\n",
        "\n",
        "Loss function outputs:\n",
        "<ul>\n",
        "  <li>loss</li>\n",
        "  <ul>\n",
        "    <li>a single <b>float</b></li>\n",
        "  </ul>\n",
        "</ul>\n",
        "\n",
        "The goal is to <b>minimize</b> the loss function."
      ],
      "metadata": {
        "id": "suBYZ3hnSgsG"
      }
    },
    {
      "cell_type": "markdown",
      "source": [
        "##Using Derivatives to Update Model Parameters\n",
        "\n",
        "Using derivatives (sometimes called gradients) is a core step for minimizing loss.<br>\n",
        "\n",
        "Can calculate the local gradient (gradient for each layer of a network) starting with the last layer.\n",
        "\n",
        "![image.png](data:image/png;base64,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)\n",
        "\n",
        "<br>\n",
        "Calculate loss gradient w.r.t $L2$, then $L1$ w.r.t $L2$, etc.\n"
      ],
      "metadata": {
        "id": "vW4-em6I3CMd"
      }
    },
    {
      "cell_type": "code",
      "source": [
        "from torch.nn import CrossEntropyLoss\n",
        "\n",
        "sample = torch.rand(16)\n",
        "target = torch.rand(2)\n",
        "\n",
        "#Create model and run forward pass\n",
        "model = nn.Sequential(nn.Linear(16, 8),\n",
        "                      nn.Linear(8, 4),\n",
        "                      nn.Linear(4, 2))\n",
        "prediction = model(sample)\n",
        "\n",
        "#scores = torch.tensor([[-0.1211, 0.1059]])\n",
        "#one_hot_target = torch.tensor([[1, 0]])\n",
        "\n",
        "#Calculate loss and compute gradients\n",
        "criterion = CrossEntropyLoss()\n",
        "loss = criterion(prediction, target)\n",
        "loss.backward()\n",
        "\n",
        "#Access each layer's gradients\n",
        "model[0].weight.grad, model[0].bias.grad\n",
        "model[1].weight.grad, model[1].bias.grad\n",
        "model[2].weight.grad, model[2].bias.grad"
      ],
      "metadata": {
        "colab": {
          "base_uri": "https://localhost:8080/"
        },
        "id": "gIgqIE0ATuXq",
        "outputId": "4b2de7fb-3d03-4824-8da1-38fbc04e4401"
      },
      "execution_count": 56,
      "outputs": [
        {
          "output_type": "execute_result",
          "data": {
            "text/plain": [
              "(tensor([[ 0.0170,  0.0323, -0.0181,  0.0170],\n",
              "         [-0.0170, -0.0323,  0.0181, -0.0170]]),\n",
              " tensor([ 0.0898, -0.0898]))"
            ]
          },
          "metadata": {},
          "execution_count": 56
        }
      ]
    },
    {
      "cell_type": "markdown",
      "source": [
        "###Update model parameters manually"
      ],
      "metadata": {
        "id": "R_er03eE7Zxi"
      }
    },
    {
      "cell_type": "code",
      "source": [
        "#Learning rate typically small\n",
        "lr = 0.001\n",
        "\n",
        "#Update weights\n",
        "weight = model[0].weight\n",
        "weight_grad = model[0].weight.grad\n",
        "weight = weight - lr * weight_grad\n",
        "\n",
        "#Update biases\n",
        "bias = model[0].bias\n",
        "bias_grad = model[0].bias.grad\n",
        "bias = bias - lr * bias_grad"
      ],
      "metadata": {
        "id": "R0LxQOm47LVW"
      },
      "execution_count": 57,
      "outputs": []
    },
    {
      "cell_type": "markdown",
      "source": [
        "##Convex and Con-Convex Functions\n",
        "\n",
        "Convex functions have only one single (global) minimum.<br>\n",
        "Non-convew functions have multiple minima.<br>\n",
        "\n"
      ],
      "metadata": {
        "id": "PJodga5A7-f9"
      }
    },
    {
      "cell_type": "code",
      "source": [
        "import numpy as np\n",
        "import matplotlib.pyplot as plt\n",
        "import math\n",
        "\n",
        "x = np.linspace(-10, 10, 100)\n",
        "y=np.sin(x) + np.cos(2*x)\n",
        "z = x ** 2\n",
        "\n",
        "plt.plot(x, z)\n",
        "plt.xlabel(\"x\")\n",
        "plt.ylabel(\"x**2\")\n",
        "plt.plot(0, min(z), marker='X', markersize=10, color=\"red\")\n",
        "plt.legend(['x**2', 'global min'], loc='lower right')\n",
        "plt.show()\n",
        "\n",
        "plt.plot(x, y)\n",
        "plt.xlabel(\"x\")\n",
        "plt.ylabel(\"sin(x)\")\n",
        "plt.plot(1.55, 0.06, marker='X', markersize=10, color=\"green\")\n",
        "plt.plot(-1.55, min(y), marker='X', markersize=10, color=\"red\")\n",
        "plt.legend(['sin(x)', 'local min', 'global min'], loc='lower right')\n",
        "plt.show()\n"
      ],
      "metadata": {
        "colab": {
          "base_uri": "https://localhost:8080/",
          "height": 881
        },
        "id": "v9leGz6772H-",
        "outputId": "30646d7e-9ce2-4dc7-a4d5-4c954e8355f1"
      },
      "execution_count": 73,
      "outputs": [
        {
          "output_type": "display_data",
          "data": {
            "text/plain": [
              "<Figure size 640x480 with 1 Axes>"
            ],
            "image/png": "[encoded data removed]"
          },
          "metadata": {}
        },
        {
          "output_type": "display_data",
          "data": {
            "text/plain": [
              "<Figure size 640x480 with 1 Axes>"
            ],
            "image/png": "[encoded data removed]"
          },
          "metadata": {}
        }
      ]
    },
    {
      "cell_type": "markdown",
      "source": [
        "##Gradient Descent\n",
        "\n",
        "<ul>\n",
        "  <li>Used to find global minima of non-convex functions</li>\n",
        "  <li>In PyTorch <b>optimizer</b> takes care of weight updates</li>\n",
        "  <li>Most common <b>optimizer</b> is stochastic gradient descent (SGD)</li>\n",
        "</ul>\n",
        "\n",
        "PyTorch optimizer\n",
        "<ul>\n",
        "  <li>calculates local gradients (double check)</li>\n",
        "  <li>Updates model params (weights) accordingly</li>\n",
        "</ul>"
      ],
      "metadata": {
        "id": "lg0fH6tq_3vy"
      }
    },
    {
      "cell_type": "code",
      "source": [
        "import torch.optim as optim\n",
        "\n",
        "#Create optimizer\n",
        "optimizer = optim.SGD(model.parameters(), lr=0.001)\n",
        "\n",
        "#Update optimizer\n",
        "optimizer.step()"
      ],
      "metadata": {
        "id": "FzWBN6Lt8jez"
      },
      "execution_count": 59,
      "outputs": []
    },
    {
      "cell_type": "markdown",
      "source": [
        "##Writing a Training Loop\n",
        "\n",
        "<ol>\n",
        "  <li>Create a model</li>\n",
        "  <li>Choose a loss function</li>\n",
        "  <li>Create a dataset</li>\n",
        "  <li>Define an optimizer</li>\n",
        "  <li>Training loop: repeat following for each dataset</li>\n",
        "  <ul>\n",
        "    <li>Calculate loss (forward pass)</li>\n",
        "    <li>Calculate loca gradients</li>\n",
        "    <li>Update model parameters</li>\n",
        "  </ul>\n",
        "</ol>\n",
        "\n",
        "Using provided data science salary dataset:\n",
        "<ul>\n",
        "  <li>features categorizes</li>\n",
        "  <li>data normalized</li>\n",
        "  <li>target is continuous (regression)</li>\n",
        "</ul>\n",
        "\n",
        "Can't use sigmoid or softmax, as they only apply to classification.<br>\n",
        "Last layer will be a linear layer. Must use a different loss function."
      ],
      "metadata": {
        "id": "fOIB6AYLA7pO"
      }
    },
    {
      "cell_type": "markdown",
      "source": [
        "##Mean Squared Error (MSE) Loss Function\n",
        "\n",
        "Uses the squared difference b/w prediction and ground truth.<br>\n",
        "\n",
        "```python\n",
        "def mean_squared_loss(prediction, target):\n",
        "  return np.mean((prediction - target)**2)\n",
        "```\n",
        "\n",
        "This is also used in Scikit-Learn when using .fit() on a linear regression model.<br>\n",
        "\n",
        "In PyTorch MSELoss is used in regression problems as a criterion similar to CrossEntropyLoss:\n",
        "```python\n",
        "criterion = nn.MSELoss()\n",
        "#Prediction and target must be float tensors\n",
        "loss = criterion(prediction, target)\n",
        "```\n"
      ],
      "metadata": {
        "id": "M9zrcUIzHw2q"
      }
    },
    {
      "cell_type": "code",
      "source": [
        "#Create the dataset and the dataloader\n",
        "dataset = TensorDataset(torch.tensor(features).float(),\n",
        "                        torch.tensor(target).float())\n",
        "\n",
        "'''Create batches of data which are passed through the model\n",
        "in each forward or backward pass'''\n",
        "dataloader = DataLoader(dataset, batch_size=4, shuffle=True)\n",
        "\n",
        "#Create the model\n",
        "model = nn.Sequential(nn.Linear(4, 2),\n",
        "                      nn.Linear(2, 1))\n",
        "\n",
        "#Don't need on hot encoding b/c this is a regression problem\n",
        "#Create the loss and optimizer\n",
        "criterion = nn.MSELoss()\n",
        "optimizer = optim.SGD(model.parameters(), lr=0.001)\n",
        "\n",
        "#One loop through entire dataset is called an epoch\n",
        "#Will loop through dataset multiple times\n",
        "for epoch in range(num_epochs):\n",
        "  for data in dataloader:\n",
        "    #Optimizer stores gradients from previous datasets by default\n",
        "    #So must set gradients to zero\n",
        "    optimizer.zero_grad()\n",
        "    #Get feature and target from data loader\n",
        "    feature, target = data\n",
        "    #Run a forward pass\n",
        "    pred = model(feature)\n",
        "    #Compute loss and gradients\n",
        "    loss = criterion(pred, target)\n",
        "    loss.backward()\n",
        "    #Update the parameters\n",
        "    optimizer.step()"
      ],
      "metadata": {
        "id": "UF5cf1c3IvOx"
      },
      "execution_count": null,
      "outputs": []
    },
    {
      "cell_type": "markdown",
      "source": [
        "#Chapter 3: NN Architecture and Hyperparameters"
      ],
      "metadata": {
        "id": "Che9XDAtMoQE"
      }
    },
    {
      "cell_type": "markdown",
      "source": [
        "##Discovering activation functions\n",
        "\n",
        "Sigmoid/softmax usu. used on last linear layer of a model.<br>\n",
        "\n",
        "Sigmoid is bounded b/wt [0,1]. Its gradient always approaches 0 for low/high values of x.<br>\n",
        "The function is said to <b>saturate</b>. This can lead to  <b>vanishing gradients</b> during backpropagation.<br>\n",
        "For high/low values of x the gradient is so small the weights might not update.<br>\n",
        "This also occurs for the softmax function, since each element of the output is also bounded b/w [0,1].\n"
      ],
      "metadata": {
        "id": "e_1VPiQoBbVm"
      }
    },
    {
      "cell_type": "code",
      "source": [
        "import numpy as np\n",
        "import matplotlib.pyplot as plt\n",
        "import math\n",
        "\n",
        "x = np.linspace(-10, 10, 100)\n",
        "z = 1/(1 + np.exp(-x))\n",
        "y = np.gradient(z)\n",
        "\n",
        "plt.plot(x, z)\n",
        "plt.xlabel(\"x\")\n",
        "plt.ylabel(\"y\")\n",
        "plt.plot(x,y)\n",
        "plt.title('Sigmoid and its Gradient')\n",
        "plt.legend([\"f(x)=Sigmoid(x)\", \"f'(x)\"], loc='upper left')\n",
        "plt.show()"
      ],
      "metadata": {
        "colab": {
          "base_uri": "https://localhost:8080/",
          "height": 472
        },
        "id": "R3-iRf-mMstP",
        "outputId": "394c8d3c-f22a-48ad-b55f-065e7b641ea1"
      },
      "execution_count": 5,
      "outputs": [
        {
          "output_type": "display_data",
          "data": {
            "text/plain": [
              "<Figure size 640x480 with 1 Axes>"
            ],
            "image/png": "[encoded data removed]"
          },
          "metadata": {}
        }
      ]
    },
    {
      "cell_type": "markdown",
      "source": [
        "##Rectified Linear Unit (ReLU) Activation Function\n",
        "\n",
        "Outputs maxmium b/w input and zero. No upper bound, grads don't converge to zero for high values.<br>\n",
        "Thus it overcomes the saturation problem."
      ],
      "metadata": {
        "id": "F6tkITlEc9Hu"
      }
    },
    {
      "cell_type": "code",
      "source": [
        "import numpy as np\n",
        "import matplotlib.pyplot as plt\n",
        "import math\n",
        "\n",
        "def ReLU(x):\n",
        "  if x <= 0:\n",
        "    return 0\n",
        "  else:\n",
        "    return x\n",
        "\n",
        "def gradReLU(x):\n",
        "  if x < 0:\n",
        "    return 0\n",
        "  else:\n",
        "    return 1\n",
        "\n",
        "#x = np.arange(-10, 10)\n",
        "x = np.linspace(-10, 10, 10000)\n",
        "z = [ReLU(y) for y in x]\n",
        "#y = [gradReLU(y) for y in x]\n",
        "y = np.gradient(z, x)\n",
        "\n",
        "plt.plot(x, z)\n",
        "plt.xlabel(\"x\")\n",
        "plt.ylabel(\"y\")\n",
        "plt.step(x, y)\n",
        "plt.title('ReLU and its Gradient')\n",
        "plt.legend([\"f(x) = ReLU(x)\", \"f'(x)\"], loc='upper left')\n",
        "plt.show()"
      ],
      "metadata": {
        "colab": {
          "base_uri": "https://localhost:8080/",
          "height": 472
        },
        "id": "7C5gTVc7bHt8",
        "outputId": "0f57a231-8b44-41b1-9e69-09c9104e1430"
      },
      "execution_count": 32,
      "outputs": [
        {
          "output_type": "display_data",
          "data": {
            "text/plain": [
              "<Figure size 640x480 with 1 Axes>"
            ],
            "image/png": "[encoded data removed]"
          },
          "metadata": {}
        }
      ]
    },
    {
      "cell_type": "markdown",
      "source": [
        "##Leaky ReLU Activation Function\n",
        "\n",
        "Similar behavior for positive inputs.<br>\n",
        "For negative inputs, multiples input by a small coefficient<br>\n",
        "In PyTorch this is the 'negative_slope' param (default = 0.01).<br>\n",
        "\n",
        "ReLU and Leaky ReLU can be called after each linear layer.<br>\n",
        "\n"
      ],
      "metadata": {
        "id": "RtYjFVJOhPGs"
      }
    },
    {
      "cell_type": "markdown",
      "source": [
        "##More NN Architecture\n",
        "\n",
        "When building a NN, the number of nodes in the input layer (features), and output layer (classes)<br>\n",
        "are determined by the dataset being used, e.g.:<br>\n",
        "\n",
        "```python\n",
        "model = nn.Sequential(nn.Linear(n_features, 8),\n",
        "                      nn.Linear(8, 4),\n",
        "                      nn.Linear(4, n_classes))\n",
        "```\n",
        "\n",
        "Increasing the number of parameters (by increasing number/dimension of hidden layers) increases the <b>model capacity</b>.\n",
        "\n",
        "Can usu. assess capacity of model using total number of learnable parameters<br>:\n",
        "\n",
        "each neuron in a layer has $n+1$ learnable params, where: <br>\n",
        "$n$ = number of neurons in the previous layer, plus the bias.<br>\n",
        "\n",
        "```python\n",
        "model = nn.Sequential(nn.Linear(8, 4),\n",
        "                      nn.Linear(4, 2))\n",
        "```\n",
        "\n",
        "In above example, first hidden layer has 4 neurons, each with 9 params = 36 params<br>\n",
        "the second hidden layer has 2 neurons, each with 5 params = 10 params<br>\n",
        "In total, the model has 46 learnable parameters.<br>\n",
        "\n",
        "PyTorch uses ```.numel()``` to return the number of elements in the tensor.<br>\n",
        "\n",
        "Higher capacity of model (more params) allows it to assess more complex data,<br>\n",
        "but it takes longer to train. Need to find the balance.\n"
      ],
      "metadata": {
        "id": "eg4iXCDHjs59"
      }
    },
    {
      "cell_type": "code",
      "source": [
        "import torch\n",
        "import torch.nn as nn\n",
        "\n",
        "input_tensor = torch.tensor([[6.0]])\n",
        "sigmoid = nn.Sigmoid()\n",
        "output = sigmoid(input_tensor)\n",
        "print(output)\n",
        "\n",
        "model = nn.Sequential(\n",
        "    nn.Linear(6,4),\n",
        "    nn.Linear(4,1),\n",
        "    nn.Sigmoid()\n",
        ")\n",
        "\n",
        "total = 0\n",
        "for parameter in model.parameters():\n",
        "  total += parameter.numel()\n",
        "print(total)"
      ],
      "metadata": {
        "colab": {
          "base_uri": "https://localhost:8080/"
        },
        "id": "TLzLX3C4dcQ6",
        "outputId": "0a370891-78fe-4615-fe12-6dfe13c22005"
      },
      "execution_count": 33,
      "outputs": [
        {
          "output_type": "stream",
          "name": "stdout",
          "text": [
            "tensor([[0.9975]])\n",
            "33\n"
          ]
        }
      ]
    },
    {
      "cell_type": "markdown",
      "source": [
        "##Learning Rate and Momentum\n",
        "\n",
        "Updating weights with SGD (Stochastic Gradient Descent) optimizer:<br>\n",
        "\n",
        "Two parameters:\n",
        "<ul>\n",
        "  <li><b>Learning rate</b>: controls step size</li>\n",
        "  <ul>\n",
        "    <li>too small: optimizer may never find minima</li>\n",
        "    <li>too large: may overshoot minima</li>\n",
        "  </ul>\n",
        "  <li><b>Momentum</b>: controls the inertia of the optimizer</li>\n",
        "  <ul>\n",
        "    <li>too small: optimizer may get stuck in local minima</li>\n",
        "  </ul>\n",
        "</ul>\n",
        "\n",
        "Optimize these parameters to minimize training time and improve performance.<br>"
      ],
      "metadata": {
        "id": "bBc8QpObn729"
      }
    },
    {
      "cell_type": "markdown",
      "source": [
        "##Layer Initialization\n",
        "\n",
        "Layer weights initialized to small values.<br>\n",
        "\n",
        "Recall - a neurons output in a linear layer is a weight sum of its inputs (previous layer's neurons' outputs).<br>\n",
        "\n",
        "Layer weights can be initialized in different ways, including sampling from distributions.<br>\n",
        "\n"
      ],
      "metadata": {
        "id": "quEaIgKDsOqS"
      }
    },
    {
      "cell_type": "code",
      "source": [
        "import torch.nn as nn\n",
        "\n",
        "layer = nn.Linear(64, 128)\n",
        "\n",
        "#Initialize layer's weights from a uniform distribution\n",
        "nn.init.uniform_(layer.weight)\n",
        "\n",
        "#print(custom_layer.fc.weight.min(), custom_layer.fc.weight.max())"
      ],
      "metadata": {
        "colab": {
          "base_uri": "https://localhost:8080/"
        },
        "id": "URoVLyObtPHS",
        "outputId": "25771446-73bd-4790-e165-b2a768e82532"
      },
      "execution_count": 36,
      "outputs": [
        {
          "output_type": "execute_result",
          "data": {
            "text/plain": [
              "Parameter containing:\n",
              "tensor([[0.1593, 0.1072, 0.7143,  ..., 0.0747, 0.9596, 0.2037],\n",
              "        [0.4751, 0.4868, 0.0404,  ..., 0.3588, 0.8642, 0.3739],\n",
              "        [0.7071, 0.6129, 0.8291,  ..., 0.4287, 0.3481, 0.5691],\n",
              "        ...,\n",
              "        [0.7344, 0.4938, 0.7002,  ..., 0.8618, 0.7039, 0.1912],\n",
              "        [0.5235, 0.3448, 0.3682,  ..., 0.7581, 0.4015, 0.0032],\n",
              "        [0.2040, 0.9498, 0.0059,  ..., 0.9676, 0.2971, 0.1352]],\n",
              "       requires_grad=True)"
            ]
          },
          "metadata": {},
          "execution_count": 36
        }
      ]
    },
    {
      "cell_type": "markdown",
      "source": [
        "##Transfer Learning\n",
        "\n",
        "Transfer Learning: reusing a model trained on a first task for a second similar task.\n",
        "\n",
        "ML engineers don't usually initialize layer weights from scratch.<br>"
      ],
      "metadata": {
        "id": "FIJ_gypAsXj6"
      }
    },
    {
      "cell_type": "markdown",
      "source": [
        "##Fine-Tuning\n",
        "\n",
        "A specific type of transfer learning. Load weights from previously trained model, but <br>\n",
        "train the model with a smaller learning rate.<br>\n",
        "Can train specific layers, while \"freezing\" others.<br>\n",
        "Rule of thumb: freeze early layerws, fine-tune layers closer to the output.<br>\n",
        "\n"
      ],
      "metadata": {
        "id": "6kWptTa_sZeZ"
      }
    },
    {
      "cell_type": "code",
      "source": [
        "import torch.nn as nn\n",
        "\n",
        "layer = nn.Sequential(nn.Linear(64, 128),\n",
        "                      nn.Linear(128, 256))\n",
        "\n",
        "for name, param in model.named_parameters():\n",
        "  if name == '0.weight':\n",
        "    param.requires_grad = False"
      ],
      "metadata": {
        "id": "BgJmIkgvmu4V"
      },
      "execution_count": null,
      "outputs": []
    },
    {
      "cell_type": "markdown",
      "source": [
        "#Chapter 4: Evaluating and Improving Models"
      ],
      "metadata": {
        "id": "N3AkaXG6v6x8"
      }
    },
    {
      "cell_type": "markdown",
      "source": [
        "#Loading Data: Deeper Dive\n",
        "\n"
      ],
      "metadata": {
        "id": "ej2nUbYMv9ub"
      }
    },
    {
      "cell_type": "code",
      "source": [
        "import pandas as pd\n",
        "import numpy as np\n",
        "\n",
        "#csv not provided in course. This cell will error.\n",
        "animals = pd.read_csv('animals.csv')\n",
        "\n",
        "features = animals.iloc[:,1,-1]\n",
        "X = features.to_numpy()\n",
        "\n",
        "target = animals.iloc[:,-1]\n",
        "y = target.to_numpy()\n",
        "\n"
      ],
      "metadata": {
        "id": "iK-kgm6mv9JB"
      },
      "execution_count": null,
      "outputs": []
    },
    {
      "cell_type": "markdown",
      "source": [
        "###TensorDataset and DataLoader\n",
        "\n",
        "TensorDataset is a PyTorch class for creating a PyTorch dataset for tensors.<br>\n",
        "Can pass this dataset to the DataLoader class.\n"
      ],
      "metadata": {
        "id": "QsPaL15Z05XF"
      }
    },
    {
      "cell_type": "code",
      "source": [
        "import torch\n",
        "from torch.utils.data import TensorDataset, DataLoader\n",
        "\n",
        "#Instantiate dataset class\n",
        "dataset = TensorDataset(torch.tensor(X).float(), torch.tensor(y).float())\n",
        "\n",
        "#Access an individual sample\n",
        "sample = dataset[0]\n",
        "\n",
        "#Unpack the resulting tuple\n",
        "input_sample, label_sample = sample\n",
        "\n",
        "#batch_size -> how many samples to take from dataset per iteration\n",
        "batch_size = 2\n",
        "\n",
        "#Whether or not to shuffle the data on each iteration\n",
        "shuffle = True\n",
        "\n",
        "#Create the DataLoader\n",
        "dataloader = DataLoader(dataset, batch_size=batch_size, shuffle=shuffle)\n",
        "\n",
        "#Iterate over the dataloader\n",
        "for batch_inputs, batch_labels in dataloader:\n",
        "  pass"
      ],
      "metadata": {
        "id": "Jz2c2DUx1miN"
      },
      "execution_count": null,
      "outputs": []
    },
    {
      "cell_type": "markdown",
      "source": [
        "##Evaluating Model Performance\n",
        "\n",
        "Raw data usually split into three subsets:\n",
        "\n",
        "\\begin{array}{|c|c|} \\hline\n",
        "  \\text{Subset} & \\text{percent of data} & \\text{Role} \\\\ \\hline\n",
        "  \\text{Training} & 80-90 & \\text{adjust model params} \\\\ \\hline\n",
        "  \\text{Validation} & 10-20 & \\text{hyperparam tuning} \\\\ \\hline\n",
        "  \\text{Testing} & 5-10 & \\text{used once to calc final metrics} \\\\ \\hline\n",
        "\\end{array}"
      ],
      "metadata": {
        "id": "4EWAZdT5AHoX"
      }
    },
    {
      "cell_type": "markdown",
      "source": [
        "##Calcualting Loss\n",
        "\n",
        "Training loss calculated by summing up loss for each iteration of training set dataloader.<br>\n",
        "Calculate the mean training loss after each epoch\n",
        "\n",
        "```python\n",
        "training_loss = 0.0\n",
        "\n",
        "for i, data in enumerate(trainloader, 0):\n",
        "  #Run forward pass\n",
        "  ...\n",
        "\n",
        "  #calcualte loss\n",
        "  loss = criterion(outputs, labels)\n",
        "\n",
        "  #calculate gradients\n",
        "  ...\n",
        "\n",
        "  #Calculate and sum the loss\n",
        "  training_loss += loss.item()\n",
        "\n",
        "#Calculate mean loss\n",
        "epoch_loss = training_loss / len(trainloader)\n",
        "```\n",
        "\n",
        "\n"
      ],
      "metadata": {
        "id": "o4JfBVKEDIDZ"
      }
    },
    {
      "cell_type": "markdown",
      "source": [
        "##Calculate Validation Loss\n",
        "\n",
        "Validation loss calculated by summing up loss for each iteration of validation set dataloader.<br>\n",
        "Calculate the mean training loss after each epoch\n",
        "\n",
        "```python\n",
        "training_loss = 0.0\n",
        "\n",
        "'''Put model in evaluation mode (some layers behave differently in training\n",
        "  vs. validation mode'''\n",
        "\n",
        "model.eval()\n",
        "\n",
        "#Don't calc gradients (speeds up forward pass)\n",
        "with torch.no_grad()\n",
        "  for i, data in enumerate(validationloader, 0):\n",
        "    #Run forward pass\n",
        "    ...\n",
        "\n",
        "    #calcualte loss\n",
        "    loss = criterion(outputs, labels)\n",
        "    validation_loss += loss.item()\n",
        "\n",
        "#Calculate mean loss\n",
        "epoch_loss = validation_loss / len(validationloader)\n",
        "\n",
        "#Set model back to training mode\n",
        "model.train()\n",
        "```"
      ],
      "metadata": {
        "id": "sZ3WcTTzHn-i"
      }
    },
    {
      "cell_type": "markdown",
      "source": [
        "##Overfitting\n",
        "\n",
        "Important to track validation and training loss to understand when model starts overfitting.<br>\n",
        "This occurs when the model stops generalizing and performance on validation set degrades.<br>\n",
        "i.e. vlidation loss is high, training loss is not.\n",
        "\n",
        "\n"
      ],
      "metadata": {
        "id": "RT-rtXwKIwEo"
      }
    },
    {
      "cell_type": "markdown",
      "source": [
        "##torchmetrics"
      ],
      "metadata": {
        "id": "nzWCockYJbuM"
      }
    },
    {
      "cell_type": "code",
      "source": [
        "import torchmetrics\n",
        "\n",
        "#Create accuracy metric\n",
        "metric = torchmetrics.Accuracy(task='multiclass', num_classes=3)\n",
        "\n",
        "for i,data in enumerate(dataloader, 0):\n",
        "  features, labels = data\n",
        "  outputs = model(features)\n",
        "\n",
        "  #Calculate accuracy over the batch\n",
        "  acc = metric(output, labels.argmax(dim=-1))\n",
        "\n",
        "#Calculate accuracy over entire epoch\n",
        "acc = metric.compute()\n",
        "\n",
        "#Reset metric for next epoch (accuracy calculated same way for train/validation)\n",
        "metric.reset()"
      ],
      "metadata": {
        "id": "RVdDPd92CIUN"
      },
      "execution_count": null,
      "outputs": []
    },
    {
      "cell_type": "markdown",
      "source": [
        "##Fighting Overfitting\n",
        "\n",
        "\\begin{array}{|c|c|} \\hline\n",
        "  \\text{Problem} & \\text{Solution} \\\\ \\hline\n",
        "  \\text{Dataset too small} & \\text{Get more data/ use augmentation} \\\\ \\hline\n",
        "  \\text{Model has too much capacity} & \\text{Reduce model size/add dropout} \\\\ \\hline\n",
        "  \\text{Weights too large} & \\text{Weight decay} \\\\ \\hline\n",
        "\\end{array}\n",
        "\n"
      ],
      "metadata": {
        "id": "f008Z1tcKwpv"
      }
    },
    {
      "cell_type": "markdown",
      "source": [
        "### Dropout Layer\n",
        "\n",
        "A form of regularization:<br>\n",
        "\n",
        "A random fraction of input neurons is set to zero at each update.<br>\n",
        "Corresponding connections are temporarily removed.<br>\n",
        "Decreases model's tendency to over-rely on specific features.<br>\n",
        "\n",
        "<ul>\n",
        "  <li>Randomly zeroes out elements of thei nput tensor <b>during training</b></li>\n",
        "  <li>Dropout usually added <b>after</b> the activation function</li>\n",
        "  <li>Behaves differently during training/eval. <b>Must switch modes</b></li>\n",
        "</ul>\n",
        "\n",
        "```python\n",
        "model = nn.Sequential(nn.Linear(8, 4),\n",
        "                      nn.ReLU(),\n",
        "                      #p is probability of setting a neuron's output to zero\n",
        "                      nn.Dropout(p=0.5))\n",
        "features = torch.randn((1, 8))\n",
        "model(i)\n",
        "```\n",
        "\n"
      ],
      "metadata": {
        "id": "Y0lOSqb_LdRT"
      }
    },
    {
      "cell_type": "markdown",
      "source": [
        "### Weight Decay\n",
        "\n",
        "Another form of regularization:<br>\n",
        "<ul>\n",
        "  <li>Add penalty to loss function - discourages large weights/biases</li>\n",
        "  <li>Value b/w 0-1, usually very small</li>\n",
        "  <li>Higher value = model less likely ot overfit</li>\n",
        "  <li>Proportional to current value of the weight</li>\n",
        "  <li>Subtracted from gradient during backpropagation</li>\n",
        "</ul>\n",
        "\n",
        "```python\n",
        "optimizer = optim.SGD(model.parameters(), lr=1e-3, weight_decay=1e-4)\n",
        "```"
      ],
      "metadata": {
        "id": "DRx2D4w6M4hg"
      }
    },
    {
      "cell_type": "markdown",
      "source": [
        "### Data Augmentation\n",
        "\n",
        "Artifically increase the size of the dataset.<br>\n",
        "Commonly applied to image data. Not covered in current course."
      ],
      "metadata": {
        "id": "JAoG0Me5NxIX"
      }
    },
    {
      "cell_type": "markdown",
      "source": [
        "##Improving Model Performance\n",
        "\n",
        "Steps to maximize performance\n",
        "<ul>\n",
        "  <li>Overfit the training set</li>\n",
        "  <ul>\n",
        "    <li>Is the problem solvable?</li>\n",
        "    <li>Set a performance baseline</li>\n",
        "  </ul>\n",
        "  <li>Reduce overfitting</li>\n",
        "  <ul>\n",
        "    <li>improve performance on validation set</li>\n",
        "  </ul>\n",
        "  <li>Finetune hyperparameters</li>\n",
        "</ul>"
      ],
      "metadata": {
        "id": "ZthB2GsFOvQB"
      }
    },
    {
      "cell_type": "markdown",
      "source": [
        "### Step 1: Overfit the Training Set\n",
        "\n",
        "<ul>\n",
        "  <li>Modify training loop to overfit a single data point (batch_size=1)</li>\n",
        "  <ul>\n",
        "    <li>should reach 1.0 accuracy, 0 loss</li>\n",
        "    <li>helps find bugs in the code</li>\n",
        "  </ul>\n",
        "  <li>Goal: minimize training loss</li>\n",
        "  <ul>\n",
        "    <li>create large enough model</li>\n",
        "    <li>hyperparameters should be kept to defaults</li>\n",
        "  </ul>\n",
        "</ul>\n",
        "\n",
        "```python\n",
        "features, labels = next(iter(trainloader))\n",
        "for i in range(1e3):\n",
        "  outputs = model(features)\n",
        "  loss = criterion(outputs, labels)\n",
        "  loss.backward()\n",
        "  optimizer.step()\n",
        "```\n"
      ],
      "metadata": {
        "id": "7Xri4K5JPUxI"
      }
    },
    {
      "cell_type": "markdown",
      "source": [
        "### Step 2: Reduce Overfitting\n",
        "\n",
        "<ul>\n",
        "  <li>Goal: maximize validation accuracy</li>\n",
        "  <li>Experiment with: </li>\n",
        "  <ul>\n",
        "    <li>Dropout</li>\n",
        "    <li>Data augmentation</li>\n",
        "    <li>Weight decay</li>\n",
        "    <li>Model capcity reduction</li>\n",
        "  </ul>\n",
        "  <li>Keep track of each hyperparameter</li>\n",
        "  <li>Report maximum validation accuracy</li>\n",
        "</ul>"
      ],
      "metadata": {
        "id": "pkE6QpM7Qoyb"
      }
    },
    {
      "cell_type": "markdown",
      "source": [
        "### Step 3: Fine-tune Hyperparameters\n",
        "\n",
        "Grid Search\n",
        "<ul>\n",
        "  <li>Use values of params at a constant interval</li>\n",
        "  <li>Usu. done on optimizer params (learning rate, momentum)</li>\n",
        "</ul>\n",
        "\n",
        "```python\n",
        "for factor in range(2,6):\n",
        "  lr = 10 ** -factor\n",
        "```\n",
        "\n",
        "Random Search\n",
        "<ul>\n",
        "  <li>Use random values of params within a given range</li>\n",
        "  <li>Usu. yields better results than Grid Search</li>\n",
        "</ul>\n",
        "\n",
        "```python\n",
        "factor = np.random.uniform(2,6):\n",
        "lr = 10 ** -factor\n",
        "```"
      ],
      "metadata": {
        "id": "vxQdhSweRWhb"
      }
    },
    {
      "cell_type": "markdown",
      "source": [
        "#Summary\n",
        "\n",
        "<ul>\n",
        "  <li>Chapter 1</li>\n",
        "  <ul>\n",
        "    <li>Intro to Deep Learning</li>\n",
        "    <li>Created small NNs</li>\n",
        "    <li>Linear layers</li>\n",
        "    <li>Activation functions</li>\n",
        "  </ul>\n",
        "  <li>Chapter 2</li>\n",
        "  <ul>\n",
        "    <li>Created/ used loss functions</li>\n",
        "    <li>Calculated derivatives (gradients)</li>\n",
        "    <li>Used backpropagations</li>\n",
        "    <li>Trained a NN</li>\n",
        "  </ul>\n",
        "  <li>Chapter 3</li>\n",
        "  <ul>\n",
        "    <li>Manipulated NN architecture</li>\n",
        "    <li>Used learning rate/momentum</li>\n",
        "    <li>Transfer learning</li>\n",
        "  </ul>\n",
        "  <li>Chapter 4</li>\n",
        "  <ul>\n",
        "    <li>Dataloaders</li>\n",
        "    <li>Reduce overfitting</li>\n",
        "    <li>Evaluate model performance</li>\n",
        "  </ul>\n",
        "</ul>\n",
        "\n",
        "Recommend book: 'Deep Learning', Goodfellow, Bengio, and Courville"
      ],
      "metadata": {
        "id": "IBSJ-8uzTpsp"
      }
    }
  ]
}