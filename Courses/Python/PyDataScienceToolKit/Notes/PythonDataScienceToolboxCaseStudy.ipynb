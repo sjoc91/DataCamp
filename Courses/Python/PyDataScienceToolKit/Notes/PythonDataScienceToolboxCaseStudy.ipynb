{
  "nbformat": 4,
  "nbformat_minor": 0,
  "metadata": {
    "colab": {
      "provenance": []
    },
    "kernelspec": {
      "name": "python3",
      "display_name": "Python 3"
    },
    "language_info": {
      "name": "python"
    }
  },
  "cells": [
    {
      "cell_type": "code",
      "source": [
        "import pandas as pd\n",
        "import matplotlib.pyplot as plt\n",
        "\n",
        "list = __builtins__.list\n",
        "\n",
        "def plot_pop(filename, country_code, c_size = 1000):\n",
        "  \"\"\"Take the input csv, read it into a dataframe by chunksize c_size,\n",
        "     filters by country_code, then plots the total urban population as\n",
        "     a function of time\"\"\"\n",
        "\n",
        "  df_input = pd.read_csv(filename, chunksize = c_size)\n",
        "  data = pd.DataFrame()\n",
        "\n",
        "  for df_urb_pop in df_input:\n",
        "    df_by_country = df_urb_pop[df_urb_pop['CountryCode'] == country_code]\n",
        "\n",
        "    pops = zip(df_by_country['Total Population'],\n",
        "               df_by_country['Urban population (% of total)'])\n",
        "\n",
        "    pops_list = list(pops)\n",
        "\n",
        "    df_by_country['Total Urban Population'] = [int(tup[0] * tup[1] * 0.01) for\n",
        "                                               tup in pops_list]\n",
        "\n",
        "    data = pd.concat([data, df_by_country])\n",
        "\n",
        "  data.plot(kind='scatter', x='Year', y='Total Urban Population')\n",
        "  plt.show()\n",
        "\n",
        "plot_pop('sample_data/world_ind_pop_data.csv', 'CEB')\n",
        "\n",
        "\n"
      ],
      "metadata": {
        "colab": {
          "base_uri": "https://localhost:8080/",
          "height": 1000
        },
        "id": "ear3cBlMCeg1",
        "outputId": "3c41bf2e-d1f4-4592-9c23-ecf086889753"
      },
      "execution_count": 49,
      "outputs": [
        {
          "output_type": "stream",
          "name": "stderr",
          "text": [
            "<ipython-input-49-c75a6fd69df1>:22: SettingWithCopyWarning: \n",
            "A value is trying to be set on a copy of a slice from a DataFrame.\n",
            "Try using .loc[row_indexer,col_indexer] = value instead\n",
            "\n",
            "See the caveats in the documentation: https://pandas.pydata.org/pandas-docs/stable/user_guide/indexing.html#returning-a-view-versus-a-copy\n",
            "  df_by_country['Total Urban Population'] = [int(tup[0] * tup[1] * 0.01) for\n",
            "<ipython-input-49-c75a6fd69df1>:22: SettingWithCopyWarning: \n",
            "A value is trying to be set on a copy of a slice from a DataFrame.\n",
            "Try using .loc[row_indexer,col_indexer] = value instead\n",
            "\n",
            "See the caveats in the documentation: https://pandas.pydata.org/pandas-docs/stable/user_guide/indexing.html#returning-a-view-versus-a-copy\n",
            "  df_by_country['Total Urban Population'] = [int(tup[0] * tup[1] * 0.01) for\n",
            "<ipython-input-49-c75a6fd69df1>:22: SettingWithCopyWarning: \n",
            "A value is trying to be set on a copy of a slice from a DataFrame.\n",
            "Try using .loc[row_indexer,col_indexer] = value instead\n",
            "\n",
            "See the caveats in the documentation: https://pandas.pydata.org/pandas-docs/stable/user_guide/indexing.html#returning-a-view-versus-a-copy\n",
            "  df_by_country['Total Urban Population'] = [int(tup[0] * tup[1] * 0.01) for\n",
            "<ipython-input-49-c75a6fd69df1>:22: SettingWithCopyWarning: \n",
            "A value is trying to be set on a copy of a slice from a DataFrame.\n",
            "Try using .loc[row_indexer,col_indexer] = value instead\n",
            "\n",
            "See the caveats in the documentation: https://pandas.pydata.org/pandas-docs/stable/user_guide/indexing.html#returning-a-view-versus-a-copy\n",
            "  df_by_country['Total Urban Population'] = [int(tup[0] * tup[1] * 0.01) for\n",
            "<ipython-input-49-c75a6fd69df1>:22: SettingWithCopyWarning: \n",
            "A value is trying to be set on a copy of a slice from a DataFrame.\n",
            "Try using .loc[row_indexer,col_indexer] = value instead\n",
            "\n",
            "See the caveats in the documentation: https://pandas.pydata.org/pandas-docs/stable/user_guide/indexing.html#returning-a-view-versus-a-copy\n",
            "  df_by_country['Total Urban Population'] = [int(tup[0] * tup[1] * 0.01) for\n",
            "<ipython-input-49-c75a6fd69df1>:22: SettingWithCopyWarning: \n",
            "A value is trying to be set on a copy of a slice from a DataFrame.\n",
            "Try using .loc[row_indexer,col_indexer] = value instead\n",
            "\n",
            "See the caveats in the documentation: https://pandas.pydata.org/pandas-docs/stable/user_guide/indexing.html#returning-a-view-versus-a-copy\n",
            "  df_by_country['Total Urban Population'] = [int(tup[0] * tup[1] * 0.01) for\n",
            "<ipython-input-49-c75a6fd69df1>:22: SettingWithCopyWarning: \n",
            "A value is trying to be set on a copy of a slice from a DataFrame.\n",
            "Try using .loc[row_indexer,col_indexer] = value instead\n",
            "\n",
            "See the caveats in the documentation: https://pandas.pydata.org/pandas-docs/stable/user_guide/indexing.html#returning-a-view-versus-a-copy\n",
            "  df_by_country['Total Urban Population'] = [int(tup[0] * tup[1] * 0.01) for\n",
            "<ipython-input-49-c75a6fd69df1>:22: SettingWithCopyWarning: \n",
            "A value is trying to be set on a copy of a slice from a DataFrame.\n",
            "Try using .loc[row_indexer,col_indexer] = value instead\n",
            "\n",
            "See the caveats in the documentation: https://pandas.pydata.org/pandas-docs/stable/user_guide/indexing.html#returning-a-view-versus-a-copy\n",
            "  df_by_country['Total Urban Population'] = [int(tup[0] * tup[1] * 0.01) for\n",
            "<ipython-input-49-c75a6fd69df1>:22: SettingWithCopyWarning: \n",
            "A value is trying to be set on a copy of a slice from a DataFrame.\n",
            "Try using .loc[row_indexer,col_indexer] = value instead\n",
            "\n",
            "See the caveats in the documentation: https://pandas.pydata.org/pandas-docs/stable/user_guide/indexing.html#returning-a-view-versus-a-copy\n",
            "  df_by_country['Total Urban Population'] = [int(tup[0] * tup[1] * 0.01) for\n",
            "<ipython-input-49-c75a6fd69df1>:22: SettingWithCopyWarning: \n",
            "A value is trying to be set on a copy of a slice from a DataFrame.\n",
            "Try using .loc[row_indexer,col_indexer] = value instead\n",
            "\n",
            "See the caveats in the documentation: https://pandas.pydata.org/pandas-docs/stable/user_guide/indexing.html#returning-a-view-versus-a-copy\n",
            "  df_by_country['Total Urban Population'] = [int(tup[0] * tup[1] * 0.01) for\n",
            "<ipython-input-49-c75a6fd69df1>:22: SettingWithCopyWarning: \n",
            "A value is trying to be set on a copy of a slice from a DataFrame.\n",
            "Try using .loc[row_indexer,col_indexer] = value instead\n",
            "\n",
            "See the caveats in the documentation: https://pandas.pydata.org/pandas-docs/stable/user_guide/indexing.html#returning-a-view-versus-a-copy\n",
            "  df_by_country['Total Urban Population'] = [int(tup[0] * tup[1] * 0.01) for\n",
            "<ipython-input-49-c75a6fd69df1>:22: SettingWithCopyWarning: \n",
            "A value is trying to be set on a copy of a slice from a DataFrame.\n",
            "Try using .loc[row_indexer,col_indexer] = value instead\n",
            "\n",
            "See the caveats in the documentation: https://pandas.pydata.org/pandas-docs/stable/user_guide/indexing.html#returning-a-view-versus-a-copy\n",
            "  df_by_country['Total Urban Population'] = [int(tup[0] * tup[1] * 0.01) for\n",
            "<ipython-input-49-c75a6fd69df1>:22: SettingWithCopyWarning: \n",
            "A value is trying to be set on a copy of a slice from a DataFrame.\n",
            "Try using .loc[row_indexer,col_indexer] = value instead\n",
            "\n",
            "See the caveats in the documentation: https://pandas.pydata.org/pandas-docs/stable/user_guide/indexing.html#returning-a-view-versus-a-copy\n",
            "  df_by_country['Total Urban Population'] = [int(tup[0] * tup[1] * 0.01) for\n",
            "<ipython-input-49-c75a6fd69df1>:22: SettingWithCopyWarning: \n",
            "A value is trying to be set on a copy of a slice from a DataFrame.\n",
            "Try using .loc[row_indexer,col_indexer] = value instead\n",
            "\n",
            "See the caveats in the documentation: https://pandas.pydata.org/pandas-docs/stable/user_guide/indexing.html#returning-a-view-versus-a-copy\n",
            "  df_by_country['Total Urban Population'] = [int(tup[0] * tup[1] * 0.01) for\n"
          ]
        },
        {
          "output_type": "display_data",
          "data": {
            "text/plain": [
              "<Figure size 640x480 with 1 Axes>"
            ],
            "image/png": "[encoded data removed]"
          },
          "metadata": {}
        }
      ]
    },
    {
      "cell_type": "markdown",
      "source": [
        "Recap of previous chapters:"
      ],
      "metadata": {
        "id": "zT7Zo8P5rMKr"
      }
    },
    {
      "cell_type": "code",
      "execution_count": 43,
      "metadata": {
        "colab": {
          "base_uri": "https://localhost:8080/"
        },
        "id": "E7S0eP7ImH7X",
        "outputId": "c4a586f0-21c8-4b9d-84ab-2839d00509e4"
      },
      "outputs": [
        {
          "output_type": "stream",
          "name": "stdout",
          "text": [
            "<class 'zip'>\n",
            "[(1, 5), (2, 6), (3, 7), (4, 8)]\n",
            "[(1, 5), (1, 6), (1, 7), (1, 8), (2, 5), (2, 6), (2, 7), (2, 8), (3, 5), (3, 6), (3, 7), (3, 8), (4, 5), (4, 6), (4, 7), (4, 8)]\n"
          ]
        }
      ],
      "source": [
        "list1 = [1,2,3,4]\n",
        "list2 = [5,6,7,8]\n",
        "\n",
        "def zip_lists(list1: list, list2: list) -> list:\n",
        "  \"\"\"This function zips the input lists and returns a list of the zipped list\n",
        "     elements\"\"\"\n",
        "  z = zip(list1, list2)\n",
        "  z_list = list(z)\n",
        "  print(type(z))\n",
        "\n",
        "  return(z_list)\n",
        "\n",
        "print(zip_lists(list1, list2))\n",
        "\n",
        "comp_z = [(num1, num2) for num1 in list1 if num1<5 for num2 in list2 if num2>4]\n",
        "print(comp_z)\n",
        "\n",
        "#df = pd.read_csv('sample.csv', chunksize = 10)\n"
      ]
    },
    {
      "cell_type": "code",
      "source": [
        "def num_sequence(n: int) :\n",
        "  \"\"\"Generate values from 0 to n\"\"\"\n",
        "\n",
        "  while i < n:\n",
        "    yield i\n",
        "    i += 1\n",
        "\n",
        "def read_large_file(file_object):\n",
        "  \"\"\"Generator function to read large data files\"\"\"\n",
        "\n",
        "  while True:\n",
        "\n",
        "    data = file_object.readline()\n",
        "\n",
        "    if not data:\n",
        "      break\n",
        "\n",
        "    yield data\n",
        "\n",
        "with open('sample_data/world_ind_pop_data.csv') as file:\n",
        "  gen_file = (read_large_file(file))\n",
        "\n",
        "  print(next(gen_file))\n",
        "  print(next(gen_file))\n",
        "  print(next(gen_file))"
      ],
      "metadata": {
        "colab": {
          "base_uri": "https://localhost:8080/"
        },
        "id": "1YoHQw5Pr3zj",
        "outputId": "8b2400f0-8bae-4aa2-ef15-39f90c34c11f"
      },
      "execution_count": 44,
      "outputs": [
        {
          "output_type": "stream",
          "name": "stdout",
          "text": [
            "CountryName,CountryCode,Year,Total Population,Urban population (% of total)\n",
            "\n",
            "Arab World,ARB,1960,92495902.0,31.285384211605397\n",
            "\n",
            "Caribbean small states,CSS,1960,4190810.0,31.5974898513652\n",
            "\n"
          ]
        }
      ]
    },
    {
      "cell_type": "markdown",
      "source": [
        "###Pandas read_csv() for streaming data"
      ],
      "metadata": {
        "id": "_mAPtApizLIZ"
      }
    },
    {
      "cell_type": "code",
      "source": [
        "import pandas as pd\n",
        "\n",
        "df_reader = pd.read_csv('sample_data/world_ind_pop_data.csv', chunksize = 100)\n",
        "\n",
        "df_urb_pop = next(df_reader)\n",
        "#print(next(df_reader))\n",
        "\n",
        "df_pop_ceb = df_urb_pop[df_urb_pop['CountryCode'] == 'CEB']\n",
        "print(df_pop_ceb)"
      ],
      "metadata": {
        "colab": {
          "base_uri": "https://localhost:8080/"
        },
        "id": "LUQUDVgDwqnp",
        "outputId": "aab6f334-85cf-4f23-96f9-6fc104d4b6f9"
      },
      "execution_count": 45,
      "outputs": [
        {
          "output_type": "stream",
          "name": "stdout",
          "text": [
            "                      CountryName CountryCode  Year  Total Population  \\\n",
            "2  Central Europe and the Baltics         CEB  1960        91401583.0   \n",
            "\n",
            "   Urban population (% of total)  \n",
            "2                      44.507921  \n"
          ]
        }
      ]
    },
    {
      "cell_type": "code",
      "source": [
        "list1 = [(1,2),(3,4),(4,5)]\n",
        "\n",
        "#comp_test = [num1*num2*0.01 for num1, num2 in list1]\n",
        "comp_test = [tup[0] * tup[1] *0.01 for tup in list1]\n",
        "print(comp_test)\n",
        "print(list[0])"
      ],
      "metadata": {
        "colab": {
          "base_uri": "https://localhost:8080/"
        },
        "id": "v9H1yhgVzxLW",
        "outputId": "e31659d2-81ad-4287-ee84-a73d0c3d6526"
      },
      "execution_count": 46,
      "outputs": [
        {
          "output_type": "stream",
          "name": "stdout",
          "text": [
            "[0.02, 0.12, 0.2]\n",
            "list[0]\n"
          ]
        }
      ]
    }
  ]
}