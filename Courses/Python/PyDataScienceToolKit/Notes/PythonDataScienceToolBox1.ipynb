{
  "nbformat": 4,
  "nbformat_minor": 0,
  "metadata": {
    "colab": {
      "provenance": []
    },
    "kernelspec": {
      "name": "python3",
      "display_name": "Python 3"
    },
    "language_info": {
      "name": "python"
    }
  },
  "cells": [
    {
      "cell_type": "markdown",
      "source": [
        "# Chapter 1: User-Defined Functions"
      ],
      "metadata": {
        "id": "GitKQ4IU0MIR"
      }
    },
    {
      "cell_type": "code",
      "source": [
        "def shout(word: str) -> str:\n",
        "  '''takes the input parameter, concatenates it with '!!!', and returns the result'''\n",
        "  shout_word = word + '!!!'\n",
        "  return(shout_word)\n",
        "\n",
        "word = 'congratulations'\n",
        "\n",
        "yell = shout(word)\n",
        "print(yell)"
      ],
      "metadata": {
        "colab": {
          "base_uri": "https://localhost:8080/"
        },
        "id": "-E8VqoXs0OfU",
        "outputId": "8e4c81a5-d5d9-47fe-85e8-0a8888185ab9"
      },
      "execution_count": 2,
      "outputs": [
        {
          "output_type": "stream",
          "name": "stdout",
          "text": [
            "congratulations!!!\n"
          ]
        }
      ]
    },
    {
      "cell_type": "markdown",
      "source": [
        "##Functions that take in multiple params, return multiple values"
      ],
      "metadata": {
        "id": "BPVcEQiV9GX9"
      }
    },
    {
      "cell_type": "code",
      "source": [
        "def shout(word1: str, word2: str) -> str:\n",
        "  shout1 = word1 + '!!!'\n",
        "  shout2 = word2 + '!!!'\n",
        "  new_shout = shout1 + shout2\n",
        "\n",
        "  return new_shout\n",
        "\n",
        "yell = shout('congratulations', 'you')\n",
        "print(yell)"
      ],
      "metadata": {
        "colab": {
          "base_uri": "https://localhost:8080/"
        },
        "id": "nQXvBkyP9IUE",
        "outputId": "fcd118e0-1113-4f4b-94e9-d5105ddceea3"
      },
      "execution_count": 3,
      "outputs": [
        {
          "output_type": "stream",
          "name": "stdout",
          "text": [
            "congratulations!!!you!!!\n"
          ]
        }
      ]
    },
    {
      "cell_type": "markdown",
      "source": [
        "##Putting it together"
      ],
      "metadata": {
        "id": "_gWuMJjQHEX1"
      }
    },
    {
      "cell_type": "code",
      "source": [
        "import pandas as pd\n",
        "\n",
        "tweets_df = pd.read_csv('sample_data/tweets.csv')\n",
        "tweets_df['lang'].head()\n",
        "\n",
        "def count_entries(df: pd.DataFrame, col_name: str) -> dict:\n",
        "  \"\"\"Takes in a dataframe and specific column of that dataframe. Counts number of occurrences of tweets in a specific language and returns the created dictionary.\"\"\"\n",
        "  langs_count = {}\n",
        "\n",
        "  col = df[col_name]\n",
        "\n",
        "  for entry in col:\n",
        "    if entry in langs_count.keys():\n",
        "      langs_count[entry] += 1\n",
        "    else:\n",
        "      langs_count[entry] = 1\n",
        "\n",
        "  return langs_count\n",
        "\n",
        "result = count_entries(tweets_df, 'lang')\n",
        "\n",
        "print(result)\n",
        "\n"
      ],
      "metadata": {
        "colab": {
          "base_uri": "https://localhost:8080/"
        },
        "id": "7RrrHQdCHDcq",
        "outputId": "812cdbf2-a2c7-42ad-cf12-babb9d2dcb12"
      },
      "execution_count": 11,
      "outputs": [
        {
          "output_type": "stream",
          "name": "stdout",
          "text": [
            "{'en': 97, 'et': 1, 'und': 2}\n"
          ]
        }
      ]
    },
    {
      "cell_type": "markdown",
      "source": [
        "##Chapter 1 Review"
      ],
      "metadata": {
        "id": "rd1i0PMKPBF_"
      }
    },
    {
      "cell_type": "code",
      "source": [
        "#function header (func name, params)\n",
        "#docstring\n",
        "#function body\n",
        "#return\n",
        "\n",
        "#tuples are immutable"
      ],
      "metadata": {
        "id": "9BEIpNghOOQI"
      },
      "execution_count": 12,
      "outputs": []
    },
    {
      "cell_type": "markdown",
      "source": [
        "# Chapter 2: Arguments and Scope"
      ],
      "metadata": {
        "id": "Q26O5hz-MMTF"
      }
    },
    {
      "cell_type": "markdown",
      "source": [
        "##Variables are searched for: <br> first in local <br> then in the enclosing function (if one exists) <br> then global <br> and finally in built-in\n",
        "##LEGB"
      ],
      "metadata": {
        "id": "9n1eyl8BjXvr"
      }
    },
    {
      "cell_type": "code",
      "source": [
        "def echo_shout(word):\n",
        "  echo_word = word * 2\n",
        "  print(echo_word)\n",
        "\n",
        "  def shout():\n",
        "    nonlocal echo_word\n",
        "    echo_word = echo_word + '!!!'\n",
        "\n",
        "  shout()\n",
        "  print(echo_word)\n",
        "\n",
        "echo_shout('hello')"
      ],
      "metadata": {
        "colab": {
          "base_uri": "https://localhost:8080/"
        },
        "id": "FMRg4wRkJCed",
        "outputId": "e4ffa684-c171-4fa8-904d-e6e9b0dd30cc"
      },
      "execution_count": 2,
      "outputs": [
        {
          "output_type": "stream",
          "name": "stdout",
          "text": [
            "hellohello\n",
            "hellohello!!!\n"
          ]
        }
      ]
    },
    {
      "cell_type": "markdown",
      "source": [
        "## Functions with defaults parameter values and flexible arguments\n",
        "###when defining a function, set the parameter to a value in the header to establish a default value"
      ],
      "metadata": {
        "id": "_Xw81GVwqBld"
      }
    },
    {
      "cell_type": "code",
      "source": [
        "def exponent(base: int, power: int = 1) -> int:\n",
        "  return base ** power\n",
        "\n",
        "#The following sends no 'power' argument, so the function defaults to 1\n",
        "print(exponent(2))\n",
        "#The following sends a 'power' argument, which overrights the function's default value\n",
        "print(exponent(2,3))"
      ],
      "metadata": {
        "colab": {
          "base_uri": "https://localhost:8080/"
        },
        "id": "5xOGoURfw9aC",
        "outputId": "852e334f-48d1-4620-a76c-e09b8106b94a"
      },
      "execution_count": 21,
      "outputs": [
        {
          "output_type": "stream",
          "name": "stdout",
          "text": [
            "2\n",
            "8\n"
          ]
        }
      ]
    },
    {
      "cell_type": "markdown",
      "source": [
        "###Using '*args' allows a variable number of arguements to be passed to the function. <br> Inside the function, a tuple of all parameters is created."
      ],
      "metadata": {
        "id": "p_HO0INkwwhY"
      }
    },
    {
      "cell_type": "code",
      "source": [
        "def sum_inputs(*args: int) -> int:\n",
        "  \"\"\"Sum all values in *args together.\"\"\"\n",
        "  sum = 0\n",
        "\n",
        "  for num in args:\n",
        "    sum += num\n",
        "  return sum\n",
        "\n",
        "print(sum_inputs(3,4,5,6))"
      ],
      "metadata": {
        "colab": {
          "base_uri": "https://localhost:8080/"
        },
        "id": "9RF6RmaumbsE",
        "outputId": "0cbaa9f7-5b30-422f-96d8-a83d8156c492"
      },
      "execution_count": 14,
      "outputs": [
        {
          "output_type": "stream",
          "name": "stdout",
          "text": [
            "18\n"
          ]
        }
      ]
    },
    {
      "cell_type": "markdown",
      "source": [
        "## Flexible arguments: **kwargs <Br>\n",
        "### The function is called with keyword arguments, which are arguments preceeded by identifiers <br>\n",
        "###The function turns these into a dictionary"
      ],
      "metadata": {
        "id": "Tco_G7Znu4Zw"
      }
    },
    {
      "cell_type": "code",
      "source": [
        "def print_all(**kwargs: str):\n",
        "  \"\"\"Print out the key-value pairs\"\"\"\n",
        "  for key, value in kwargs.items():\n",
        "    print(f'{key}: {value}')\n",
        "\n",
        "print_all(name='Alfred', species = 'dog')"
      ],
      "metadata": {
        "colab": {
          "base_uri": "https://localhost:8080/"
        },
        "id": "G83NpeECswT8",
        "outputId": "23bf8059-c207-430a-bcce-1c3afb672c60"
      },
      "execution_count": 19,
      "outputs": [
        {
          "output_type": "stream",
          "name": "stdout",
          "text": [
            "name: Alfred\n",
            "species: dog\n"
          ]
        }
      ]
    },
    {
      "cell_type": "markdown",
      "source": [
        "##Putting it together"
      ],
      "metadata": {
        "id": "Fhqyq6RkzjNV"
      }
    },
    {
      "cell_type": "code",
      "source": [
        "import pandas as pd\n",
        "\n",
        "def count_entries(df: pd.DataFrame, *args: str) -> dict:\n",
        "  \"\"\"Takes in a pandas DataFrame and an arbitrary number of column names. Outputs a dictionary with the number of occurences of text in the column rows.\"\"\"\n",
        "  cols_count = {}\n",
        "\n",
        "  for col_name in args:\n",
        "    col = df[col_name]\n",
        "\n",
        "    for entry in col:\n",
        "      if entry in cols_count:\n",
        "        cols_count[entry] += 1\n",
        "      else:\n",
        "        cols_count[entry] = 1\n",
        "\n",
        "  return cols_count\n",
        "\n",
        "tweets_df = pd.read_csv('sample_data/tweets.csv')\n",
        "\n",
        "result1 = count_entries(tweets_df, 'lang')\n",
        "result2 = count_entries(tweets_df, 'lang', 'source')\n",
        "\n",
        "print(result1)\n",
        "print(result2)"
      ],
      "metadata": {
        "colab": {
          "base_uri": "https://localhost:8080/"
        },
        "id": "NnzkJZNjvsOT",
        "outputId": "8335c29c-5ab5-418f-e3a2-259e387ef5d5"
      },
      "execution_count": 25,
      "outputs": [
        {
          "output_type": "stream",
          "name": "stdout",
          "text": [
            "{'en': 97, 'et': 1, 'und': 2}\n",
            "{'en': 97, 'et': 1, 'und': 2, '<a href=\"http://twitter.com\" rel=\"nofollow\">Twitter Web Client</a>': 24, '<a href=\"http://www.facebook.com/twitter\" rel=\"nofollow\">Facebook</a>': 1, '<a href=\"http://twitter.com/download/android\" rel=\"nofollow\">Twitter for Android</a>': 26, '<a href=\"http://twitter.com/download/iphone\" rel=\"nofollow\">Twitter for iPhone</a>': 33, '<a href=\"http://www.twitter.com\" rel=\"nofollow\">Twitter for BlackBerry</a>': 2, '<a href=\"http://www.google.com/\" rel=\"nofollow\">Google</a>': 2, '<a href=\"http://twitter.com/#!/download/ipad\" rel=\"nofollow\">Twitter for iPad</a>': 6, '<a href=\"http://linkis.com\" rel=\"nofollow\">Linkis.com</a>': 2, '<a href=\"http://rutracker.org/forum/viewforum.php?f=93\" rel=\"nofollow\">newzlasz</a>': 2, '<a href=\"http://ifttt.com\" rel=\"nofollow\">IFTTT</a>': 1, '<a href=\"http://www.myplume.com/\" rel=\"nofollow\">Plume\\xa0for\\xa0Android</a>': 1}\n"
          ]
        }
      ]
    },
    {
      "cell_type": "markdown",
      "source": [
        "# Chapter 3: Lambda functions and error-handling <br>\n",
        "##Lambda functions are concise, and situational in use."
      ],
      "metadata": {
        "id": "XyQl_8J260i3"
      }
    },
    {
      "cell_type": "code",
      "source": [
        "raise_to_power = lambda x,y: x **y\n",
        "raise_to_power(2,3)"
      ],
      "metadata": {
        "colab": {
          "base_uri": "https://localhost:8080/"
        },
        "id": "M-Ptzuez2uzq",
        "outputId": "ea01284d-690d-4ce1-fb8b-e864e0a455ec"
      },
      "execution_count": 26,
      "outputs": [
        {
          "output_type": "execute_result",
          "data": {
            "text/plain": [
              "8"
            ]
          },
          "metadata": {},
          "execution_count": 26
        }
      ]
    },
    {
      "cell_type": "markdown",
      "source": [
        "###map(function, sequence) <br>\n",
        "###map() applies the function to each element of the sequence\n",
        "###Anonymous function: Lambda function send to map()"
      ],
      "metadata": {
        "id": "P3u66Ulp-Kkf"
      }
    },
    {
      "cell_type": "code",
      "source": [
        "nums = [2, 23, 4, 6, 14]\n",
        "\n",
        "square_all = map(lambda num: num ** 2, nums)\n",
        "\n",
        "#Below line shows that 'square_all' is a map object\n",
        "print(square_all)\n",
        "\n",
        "#To display contents of map obj, turn it into a list\n",
        "print(list(square_all))"
      ],
      "metadata": {
        "colab": {
          "base_uri": "https://localhost:8080/"
        },
        "id": "_yvgoasl97Iw",
        "outputId": "3f3b1a7c-dab7-428d-a1a0-d41aba8ef833"
      },
      "execution_count": 30,
      "outputs": [
        {
          "output_type": "stream",
          "name": "stdout",
          "text": [
            "<map object at 0x7a77201b71f0>\n",
            "[4, 529, 16, 36, 196]\n"
          ]
        }
      ]
    },
    {
      "cell_type": "code",
      "source": [
        "word_list = ['hello', 'there']\n",
        "\n",
        "add_bangs = map(lambda a: a + '!!!', word_list)\n",
        "add_bangs_list = list(add_bangs)\n",
        "print(add_bangs_list)"
      ],
      "metadata": {
        "colab": {
          "base_uri": "https://localhost:8080/"
        },
        "id": "SvfuWDQd-tnR",
        "outputId": "a66a5be0-f3bf-4195-cb00-08ef9bc3b431"
      },
      "execution_count": 37,
      "outputs": [
        {
          "output_type": "stream",
          "name": "stdout",
          "text": [
            "['hello!!!', 'there!!!']\n"
          ]
        }
      ]
    },
    {
      "cell_type": "markdown",
      "source": [
        "##Error handling <br>\n",
        "An exception is an error caught during execution <br>\n",
        "Use a try-except clause to catch these errors and return useful feedback to the user <br>\n",
        "use 'raise' to raise a specific error"
      ],
      "metadata": {
        "id": "J4UUFI71B-se"
      }
    },
    {
      "cell_type": "code",
      "source": [
        "def raise_to_power(base: int, power: int) -> int:\n",
        "  try:\n",
        "    return base ** power\n",
        "  except:\n",
        "    print('Error: Base and power arguments must be floats or integers.')\n",
        "\n",
        "raise_to_power(3,'hello')"
      ],
      "metadata": {
        "colab": {
          "base_uri": "https://localhost:8080/"
        },
        "id": "QTNaCAj3_kSy",
        "outputId": "84151ff8-084b-4d70-cc26-5c40828d29cf"
      },
      "execution_count": 40,
      "outputs": [
        {
          "output_type": "stream",
          "name": "stdout",
          "text": [
            "Error: Base and power arguments must be floats or integers.\n"
          ]
        }
      ]
    },
    {
      "cell_type": "markdown",
      "source": [
        "#Bringing it all together"
      ],
      "metadata": {
        "id": "5y5cK0k2Eqd6"
      }
    },
    {
      "cell_type": "code",
      "source": [
        "tweet_df = pd.read_csv('sample_data/tweets.csv')\n",
        "result = filter(lambda text: text[0:2] == 'RT', tweet_df['text'])\n",
        "\n",
        "result_list = list(result)\n",
        "print(result_list)"
      ],
      "metadata": {
        "colab": {
          "base_uri": "https://localhost:8080/"
        },
        "id": "khUXKFgaEf9d",
        "outputId": "1273a907-a1c7-40d3-e237-0d53180d5849"
      },
      "execution_count": 43,
      "outputs": [
        {
          "output_type": "stream",
          "name": "stdout",
          "text": [
            "[\"RT @bpolitics: .@krollbondrating's Christopher Whalen says Clinton is the weakest Dem candidate in 50 years https://t.co/pLk7rvoRSn https:/…\", 'RT @HeidiAlpine: @dmartosko Cruz video found.....racing from the scene.... #cruzsexscandal https://t.co/zuAPZfQDk3', 'RT @AlanLohner: The anti-American D.C. elites despise Trump for his America-first foreign policy. Trump threatens their gravy train. https:…', 'RT @BIackPplTweets: Young Donald trump meets his neighbor  https://t.co/RFlu17Z1eE', 'RT @trumpresearch: @WaitingInBagdad @thehill Trump supporters have selective amnisia.', 'RT @HouseCracka: 29,000+ PEOPLE WATCHING TRUMP LIVE ON ONE STREAM!!!\\n\\nhttps://t.co/7QCFz9ehNe', 'RT @urfavandtrump: RT for Brendon Urie\\nFav for Donald Trump https://t.co/PZ5vS94lOg', 'RT @trapgrampa: This is how I see #Trump every time he speaks. https://t.co/fYSiHNS0nT', 'RT @trumpresearch: @WaitingInBagdad @thehill Trump supporters have selective amnisia.', 'RT @Pjw20161951: NO KIDDING: #SleazyDonald just attacked Scott Walker for NOT RAISING TAXES in WI! #LyinTrump\\n#NeverTrump  #CruzCrew  https…', 'RT @urfavandtrump: RT for Brendon Urie\\nFav for Donald Trump https://t.co/PZ5vS94lOg', 'RT @ggreenwald: The media spent all day claiming @SusanSarandon said she might vote for Trump. A total fabrication, but whatever... https:/…', 'RT @Pjw20161951: NO KIDDING: #SleazyDonald just attacked Scott Walker for NOT RAISING TAXES in WI! #LyinTrump\\n#NeverTrump  #CruzCrew  https…', 'RT @trapgrampa: This is how I see #Trump every time he speaks. https://t.co/fYSiHNS0nT', 'RT @mitchellvii: So let me get this straight.  Any reporter can assault Mr Trump at any time and Corey can do nothing?  Michelle is clearly…', 'RT @paulbenedict7: How #Trump Sacks RINO Strongholds by Hitting Positions Held by Dems and GOP https://t.co/D7ulnAJhis   #tcot #PJNET https…', 'RT @DRUDGE_REPORT: VIDEO:  Trump emotional moment with Former Miss Wisconsin who has terminal illness... https://t.co/qt06aG9inT', 'RT @ggreenwald: The media spent all day claiming @SusanSarandon said she might vote for Trump. A total fabrication, but whatever... https:/…', \"RT @DennisApgar: Thank God I seen Trump at first stop in Wisconsin media doesn't know how great he is, advice watch live streaming https://…\", 'RT @paulbenedict7: How #Trump Sacks RINO Strongholds by Hitting Positions Held by Dems and GOP https://t.co/D7ulnAJhis   #tcot #PJNET https…', 'RT @DRUDGE_REPORT: VIDEO:  Trump emotional moment with Former Miss Wisconsin who has terminal illness... https://t.co/qt06aG9inT', \"RT @DennisApgar: Thank God I seen Trump at first stop in Wisconsin media doesn't know how great he is, advice watch live streaming https://…\", 'RT @mitchellvii: So let me get this straight.  Any reporter can assault Mr Trump at any time and Corey can do nothing?  Michelle is clearly…', \"RT @sciam: Trump's idiosyncratic patterns of speech are why people tend either to love or hate him https://t.co/QXwquVgs3c https://t.co/P9N…\", 'RT @Norsu2: Nightmare WI poll for Ted Cruz has Kasich surging: Trump 29, Kasich 27, Cruz 25. https://t.co/lJsgbLYY1P #NeverTrump', 'RT @thehill: WATCH: Protester pepper-sprayed point blank at Trump rally https://t.co/B5f65Al9ld https://t.co/skAfByXuQc', \"RT @sciam: Trump's idiosyncratic patterns of speech are why people tend either to love or hate him https://t.co/QXwquVgs3c https://t.co/P9N…\", 'RT @ggreenwald: The media spent all day claiming @SusanSarandon said she might vote for Trump. A total fabrication, but whatever... https:/…', \"RT @DebbieStout5: Wow! Last I checked it was just 12 points &amp; that wasn't more than a day ago. Oh boy Trump ppl might want to rethink🤔 http…\", \"RT @tyleroakley: i'm a messy bitch, but at least i'm not voting for trump\", \"RT @vandives: Trump supporters r tired of justice NOT being served. There's no justice anymore. Hardworking Americans get screwed. That's n…\", 'RT @AP: BREAKING: Trump vows to stand by campaign manager charged with battery, says he does not discard people.', 'RT @AP: BREAKING: Trump vows to stand by campaign manager charged with battery, says he does not discard people.', 'RT @urfavandtrump: RT for Jerrie (Little Mix)\\nFav for Donald Trump https://t.co/nEVxElW6iG', 'RT @urfavandtrump: RT for Jerrie (Little Mix)\\nFav for Donald Trump https://t.co/nEVxElW6iG', 'RT @NoahCRothman: When Walker was fighting for reforms, Trump was defending unions and collective bargaining privileges https://t.co/e1UWNN…', 'RT @RedheadAndRight: Report: Secret Service Says Michelle Fields Touched Trump https://t.co/c5c2sD8VO2\\n\\nThis is the only article you will n…', 'RT @AIIAmericanGirI: VIDEO=&gt; Anti-Trump Protester SLUGS Elderly Trump Supporter in the Face\\nhttps://t.co/GeEryMDuDY', 'RT @NoahCRothman: When Walker was fighting for reforms, Trump was defending unions and collective bargaining privileges https://t.co/e1UWNN…', 'RT @JusticeRanger1: @realDonaldTrump @Pudingtane @DanScavino @GOP @infowars @EricTrump \\nURGENT PUBLIC TRUMP ALERT:\\nCOVERT KILL MEANS https:…', 'RT @AIIAmericanGirI: VIDEO=&gt; Anti-Trump Protester SLUGS Elderly Trump Supporter in the Face\\nhttps://t.co/GeEryMDuDY', 'RT @RedheadAndRight: Report: Secret Service Says Michelle Fields Touched Trump https://t.co/c5c2sD8VO2\\n\\nThis is the only article you will n…', 'RT @JusticeRanger1: @realDonaldTrump @Pudingtane @DanScavino @GOP @infowars @EricTrump \\nURGENT PUBLIC TRUMP ALERT:\\nCOVERT KILL MEANS https:…', 'RT @Schneider_CM: Trump says nobody had ever heard of executive orders before Obama started signing them. Never heard of the Emancipation P…', 'RT @RonBasler1: @DavidWhitDennis @realDonaldTrump @tedcruz \\n\\nCRUZ SCREWS HOOKERS\\n\\nCRUZ / CLINTON', 'RT @DonaldsAngel: Former Ms. WI just said that she is terminally ill but because of Trump pageant, her 7 yr. old son has his college educat…', 'RT @Schneider_CM: Trump says nobody had ever heard of executive orders before Obama started signing them. Never heard of the Emancipation P…', 'RT @DonaldsAngel: Former Ms. WI just said that she is terminally ill but because of Trump pageant, her 7 yr. old son has his college educat…', 'RT @Dodarey: @DR8801 @SykesCharlie Charlie, let\\'s see you get a straight \"yes\" or \"no\" answer from Cruz a/b being unfaithful to his wife @T…', 'RT @RonBasler1: @DavidWhitDennis @realDonaldTrump @tedcruz \\n\\nCRUZ SCREWS HOOKERS\\n\\nCRUZ / CLINTON', 'RT @RockCliffOne: Remember when the idea of a diabolical moron holding the world hostage was an idea for a funny movie? #Trump #GOP https:/…', 'RT @HillaryClinton: \"Every day, another Republican bemoans the rise of Donald Trump... but [he] didn’t come out of nowhere.\" —Hillary\\nhttps…', 'RT @Dodarey: @DR8801 @SykesCharlie Charlie, let\\'s see you get a straight \"yes\" or \"no\" answer from Cruz a/b being unfaithful to his wife @T…', 'RT @HillaryClinton: \"Every day, another Republican bemoans the rise of Donald Trump... but [he] didn’t come out of nowhere.\" —Hillary\\nhttps…', 'RT @RockCliffOne: Remember when the idea of a diabolical moron holding the world hostage was an idea for a funny movie? #Trump #GOP https:/…', 'RT @immigrant4trump: @immigrant4trump msm, cable news attacking trump all day, from 8am to 10pm today, then the reruns come on, repeating t…', 'RT @immigrant4trump: @immigrant4trump msm, cable news attacking trump all day, from 8am to 10pm today, then the reruns come on, repeating t…', 'RT @GlendaJazzey: Donald Trump’s Campaign Financing Dodge, @rrotunda https://t.co/L8flI4lswG via @VerdictJustia', 'RT @TUSK81: LOUDER FOR THE PEOPLE IN THE BACK https://t.co/hlPVyNLXzx', 'RT @loopzoop: Well...put it back https://t.co/8Yb7BDT5VM', 'RT @claytoncubitt: Stop asking Bernie supporters if they’ll vote for Hillary against Trump. We got a plan to beat Trump already. Called Ber…', \"RT @akaMaude13: Seriously can't make this up. What a joke. #NeverTrump  https://t.co/JkTx6mdRgC\"]\n"
          ]
        }
      ]
    },
    {
      "cell_type": "code",
      "source": [
        "def count_entries(df: pd.DataFrame, col_name='lang') -> dict:\n",
        "\n",
        "  if col_name not in df.columns:\n",
        "    raise ValueError(f'The DataFrame does not have a {col_name} column.')\n",
        "\n",
        "  cols_count = {}\n",
        "  col = df[col_name]\n",
        "\n",
        "  for entry in col:\n",
        "    if entry in cols_count.keys():\n",
        "      cols_count[entry] += 1\n",
        "    else:\n",
        "      cols_count[entry] = 1\n",
        "\n",
        "  return cols_count\n",
        "\n",
        "result1 = count_entries(tweets_df, 'lang')\n",
        "\n",
        "print(result1)\n"
      ],
      "metadata": {
        "colab": {
          "base_uri": "https://localhost:8080/"
        },
        "id": "qi0_ZUL3FiHU",
        "outputId": "1fb417f3-bd63-4aea-bee3-2e6a9303ab5a"
      },
      "execution_count": 47,
      "outputs": [
        {
          "output_type": "stream",
          "name": "stdout",
          "text": [
            "{'en': 97, 'et': 1, 'und': 2}\n"
          ]
        }
      ]
    },
    {
      "cell_type": "code",
      "source": [],
      "metadata": {
        "id": "WlQ46UirH_UG"
      },
      "execution_count": null,
      "outputs": []
    }
  ]
}