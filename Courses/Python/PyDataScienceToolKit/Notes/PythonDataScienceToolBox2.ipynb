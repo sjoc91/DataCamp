{
  "nbformat": 4,
  "nbformat_minor": 0,
  "metadata": {
    "colab": {
      "provenance": []
    },
    "kernelspec": {
      "name": "python3",
      "display_name": "Python 3"
    },
    "language_info": {
      "name": "python"
    }
  },
  "cells": [
    {
      "cell_type": "markdown",
      "source": [
        "#Chapter 1: Iterators <br>\n",
        "Iterable is an object with an associated 'iter()' method <br>\n",
        "Applying 'iter()' to an associated object creates an iterator <br>\n",
        "Iterables include: lists, strings, dictionaries, file connections, more <br>\n",
        "An iterator produces the next value with the 'next()' function <br>\n"
      ],
      "metadata": {
        "id": "iHM9V3wENWz7"
      }
    },
    {
      "cell_type": "code",
      "execution_count": null,
      "metadata": {
        "colab": {
          "base_uri": "https://localhost:8080/"
        },
        "id": "UyKzOa5RNQKI",
        "outputId": "129fb7f3-8c2a-42be-9b63-8bccba9f8840"
      },
      "outputs": [
        {
          "output_type": "stream",
          "name": "stdout",
          "text": [
            "D a t a\n",
            "sky blue\n",
            "forest green\n"
          ]
        }
      ],
      "source": [
        "#Can iterate through entire sequence at once with *\n",
        "word = 'Data'\n",
        "it = iter(word)\n",
        "print(*it)\n",
        "\n",
        "#Iterating through key-value pairs\n",
        "sample_dict = {'sky': 'blue', 'forest':'green'}\n",
        "for key, value in sample_dict.items():\n",
        "  print(key, value)"
      ]
    },
    {
      "cell_type": "markdown",
      "source": [
        "Once an iterator has been fully iterated through it will not be usable."
      ],
      "metadata": {
        "id": "JmCQFO3_UIHI"
      }
    },
    {
      "cell_type": "code",
      "source": [
        "small_value = iter(range(3))\n",
        "\n",
        "for num in range(3):\n",
        "  print(next(small_value))\n",
        "\n",
        "\"\"\"The following line tries to call the iterator again, even though it has been\n",
        "   fully iterated through, yielding an error.\"\"\"\n",
        "print(next(small_value))"
      ],
      "metadata": {
        "colab": {
          "base_uri": "https://localhost:8080/",
          "height": 234
        },
        "id": "GOHQYyBQOke4",
        "outputId": "834153e2-ec7c-48fc-8ebf-d92a7a1afb78"
      },
      "execution_count": 29,
      "outputs": [
        {
          "output_type": "stream",
          "name": "stdout",
          "text": [
            "0\n",
            "1\n",
            "2\n"
          ]
        },
        {
          "output_type": "error",
          "ename": "StopIteration",
          "evalue": "",
          "traceback": [
            "\u001b[0;31m---------------------------------------------------------------------------\u001b[0m",
            "\u001b[0;31mStopIteration\u001b[0m                             Traceback (most recent call last)",
            "\u001b[0;32m<ipython-input-29-f571fa8c7a97>\u001b[0m in \u001b[0;36m<cell line: 8>\u001b[0;34m()\u001b[0m\n\u001b[1;32m      6\u001b[0m \"\"\"The following line tries to call the iterator again, even though it has been \n\u001b[1;32m      7\u001b[0m    fully iterated through, yielding an error.\"\"\"\n\u001b[0;32m----> 8\u001b[0;31m \u001b[0mprint\u001b[0m\u001b[0;34m(\u001b[0m\u001b[0mnext\u001b[0m\u001b[0;34m(\u001b[0m\u001b[0msmall_value\u001b[0m\u001b[0;34m)\u001b[0m\u001b[0;34m)\u001b[0m\u001b[0;34m\u001b[0m\u001b[0;34m\u001b[0m\u001b[0m\n\u001b[0m",
            "\u001b[0;31mStopIteration\u001b[0m: "
          ]
        }
      ]
    },
    {
      "cell_type": "markdown",
      "source": [
        "The 'enumerate()' function takes an iterable as an argument, and returns a special enumerate object<br>\n",
        "Thie enumerate object which consists of pairs of the original iterable element and its index <br>\n",
        "\n"
      ],
      "metadata": {
        "id": "mrmt9j1VaYQP"
      }
    },
    {
      "cell_type": "code",
      "source": [
        "sample_list = ['red', 'orange', 'yellow', 'green', 'blue', 'indigo', 'violet']\n",
        "\n",
        "for color, index in enumerate(sample_list):\n",
        "  print(f'{color}: {index}')"
      ],
      "metadata": {
        "colab": {
          "base_uri": "https://localhost:8080/"
        },
        "id": "78Ro1uOkayMK",
        "outputId": "d15a4394-078b-4a1c-c4b1-715d0330b64a"
      },
      "execution_count": null,
      "outputs": [
        {
          "output_type": "stream",
          "name": "stdout",
          "text": [
            "0: red\n",
            "1: orange\n",
            "2: yellow\n",
            "3: green\n",
            "4: blue\n",
            "5: indigo\n",
            "6: violet\n"
          ]
        }
      ]
    },
    {
      "cell_type": "markdown",
      "source": [
        "The 'zip()' function is an iterator of tuples. It takes two iterators as input <br>\n",
        "It returns a list of tuples of the corresponding elements of the lists grouped by index value."
      ],
      "metadata": {
        "id": "r7BhYa8RbPGq"
      }
    },
    {
      "cell_type": "code",
      "source": [
        "sample_list = ['red', 'orange', 'yellow', 'green', 'blue', 'indigo', 'violet']\n",
        "other_list = reversed(sample_list)\n",
        "\n",
        "z = zip(sample_list, other_list)\n",
        "z_list = list(z)\n",
        "\n",
        "print(z_list)"
      ],
      "metadata": {
        "colab": {
          "base_uri": "https://localhost:8080/"
        },
        "id": "6XdLz2zXbNIP",
        "outputId": "2c042ef1-073a-497b-c0ed-1f4368d9d767"
      },
      "execution_count": null,
      "outputs": [
        {
          "output_type": "stream",
          "name": "stdout",
          "text": [
            "[('red', 'violet'), ('orange', 'indigo'), ('yellow', 'blue'), ('green', 'green'), ('blue', 'yellow'), ('indigo', 'orange'), ('violet', 'red')]\n"
          ]
        }
      ]
    },
    {
      "cell_type": "markdown",
      "source": [
        "###Loading large datasets\n",
        "When working with data too large to fit in memory, can use an iterator to load data in chunks. <br>\n",
        "This is done, for example, with the pandas 'read_csv()' function by specifying 'chunksize'. <br>\n",
        "In this case, each chunk is a DataFrame."
      ],
      "metadata": {
        "id": "ERFP_ZxGP-wK"
      }
    },
    {
      "cell_type": "code",
      "source": [
        "from inspect import ClosureVars\n",
        "import pandas as pd\n",
        "\n",
        "def count_entries(csv_file: str, c_size: int, colname: str) -> dict:\n",
        "  \"\"\"This takes 'csv_file', chunks it according to 'c_size' and returns a dict\n",
        "     of the occurences of each entry in the 'colname'\"\"\"\n",
        "\n",
        "  counts_dict = {}\n",
        "  csv_df = pd.read_csv(csv_file, chunksize = c_size)\n",
        "\n",
        "  for chunk in csv_df:\n",
        "\n",
        "    for entry in chunk[colname]:\n",
        "      if entry in counts_dict.keys():\n",
        "        counts_dict[entry] += 1\n",
        "      else:\n",
        "        counts_dict[entry] = 1\n",
        "\n",
        "  return counts_dict\n",
        "\n",
        "result = count_entries('sample_data/tweets.csv', 10, 'lang')\n",
        "print(result)\n"
      ],
      "metadata": {
        "id": "pc8H36Lvb4AN",
        "colab": {
          "base_uri": "https://localhost:8080/"
        },
        "outputId": "b979122d-3190-46e1-bf7f-3aaa6c313cb6"
      },
      "execution_count": 28,
      "outputs": [
        {
          "output_type": "stream",
          "name": "stdout",
          "text": [
            "{'en': 97, 'et': 1, 'und': 2}\n"
          ]
        }
      ]
    },
    {
      "cell_type": "markdown",
      "source": [
        "#Chapter 2: List comprehensions and generators"
      ],
      "metadata": {
        "id": "uXfA6Fv1VXb1"
      }
    },
    {
      "cell_type": "markdown",
      "source": [
        "##List comprehensions\n",
        "For loops are less efficient in many cases when iterating over a list"
      ],
      "metadata": {
        "id": "AeeSTXeMVp-B"
      }
    },
    {
      "cell_type": "code",
      "source": [
        "nums = [1, 3, 5, 4]\n",
        "\n",
        "#Using a for loop to add 1 to each number\n",
        "new_nums = []\n",
        "for num in nums:\n",
        "  new_nums.append(num + 1)\n",
        "print(new_nums)\n",
        "\n",
        "#Using a nested for loop to create a list of pairs\n",
        "pairs=[]\n",
        "\n",
        "for num1 in range (0,2):\n",
        "  for num2 in range(6,8):\n",
        "    pairs.append((num1,num2))\n",
        "print(pairs)"
      ],
      "metadata": {
        "colab": {
          "base_uri": "https://localhost:8080/"
        },
        "id": "tHa4YSkbTS5U",
        "outputId": "db47d0ee-482e-4ad0-e254-558c474ec496"
      },
      "execution_count": 15,
      "outputs": [
        {
          "output_type": "stream",
          "name": "stdout",
          "text": [
            "[2, 4, 6, 5]\n",
            "[(0, 6), (0, 7), (1, 6), (1, 7)]\n"
          ]
        }
      ]
    },
    {
      "cell_type": "code",
      "source": [
        "nums = [1, 3, 5, 4]\n",
        "\n",
        "#Using a list comprehension consolidates the above code into one line\n",
        "new_nums = [num + 1 for num in nums]\n",
        "print(new_nums)\n",
        "\n",
        "#Can also use list comprehensions to replace nested for loops\n",
        "pairs = [(num1, num2) for num1 in range(0,2) for num2 in range(6,8)]\n",
        "print(pairs)"
      ],
      "metadata": {
        "colab": {
          "base_uri": "https://localhost:8080/"
        },
        "id": "VQl0guFEWSdK",
        "outputId": "9a484eb1-2a00-46f3-8ea7-c4798fe02ed9"
      },
      "execution_count": 16,
      "outputs": [
        {
          "output_type": "stream",
          "name": "stdout",
          "text": [
            "[2, 4, 6, 5]\n",
            "[(0, 6), (0, 7), (1, 6), (1, 7)]\n"
          ]
        }
      ]
    },
    {
      "cell_type": "markdown",
      "source": [
        "Can make matrices (lists of lists) with nested list comprehensions"
      ],
      "metadata": {
        "id": "tdxjO84ZafF6"
      }
    },
    {
      "cell_type": "code",
      "source": [
        "matrix = [[col for col in range(0,5)] for row in range(0,5)]\n",
        "print(matrix)"
      ],
      "metadata": {
        "colab": {
          "base_uri": "https://localhost:8080/"
        },
        "id": "02S5MwgNads4",
        "outputId": "a7486b39-4c2a-445e-ca62-5f58f2cab20d"
      },
      "execution_count": 24,
      "outputs": [
        {
          "output_type": "stream",
          "name": "stdout",
          "text": [
            "[[0, 1, 2, 3, 4], [0, 1, 2, 3, 4], [0, 1, 2, 3, 4], [0, 1, 2, 3, 4], [0, 1, 2, 3, 4]]\n"
          ]
        }
      ]
    },
    {
      "cell_type": "markdown",
      "source": [
        "##Advanced List Comprehensions\n",
        "List comprehensions can be used with any iterable and be used with conditionals"
      ],
      "metadata": {
        "id": "_cxlan3iWpf3"
      }
    },
    {
      "cell_type": "code",
      "source": [
        "#For numbers 0-9 return the num squared if num is even, else return 0\n",
        "num_squared = [num**2 if num % 2 == 0 else 0 for num in range(0,10)]\n",
        "print(num_squared)"
      ],
      "metadata": {
        "colab": {
          "base_uri": "https://localhost:8080/"
        },
        "id": "o7-MmOACWka2",
        "outputId": "f38af6f1-cac5-4a75-9cb5-e21c96ce303d"
      },
      "execution_count": 25,
      "outputs": [
        {
          "output_type": "stream",
          "name": "stdout",
          "text": [
            "[0, 0, 4, 0, 16, 0, 36, 0, 64, 0]\n"
          ]
        }
      ]
    },
    {
      "cell_type": "markdown",
      "source": [
        "Dict comprehensions function similarly, with slightly different syntax"
      ],
      "metadata": {
        "id": "nZZRGRblc81H"
      }
    },
    {
      "cell_type": "code",
      "source": [
        "#Dict comprehensions use curly brackets with a colon between the key and value\n",
        "pos_neg = {num: -num for num in range(0,9)}\n",
        "print(pos_neg)"
      ],
      "metadata": {
        "colab": {
          "base_uri": "https://localhost:8080/"
        },
        "id": "9EE2Av8tcfO6",
        "outputId": "3e45d426-6610-4859-bbd4-e077ed6c6b70"
      },
      "execution_count": 30,
      "outputs": [
        {
          "output_type": "stream",
          "name": "stdout",
          "text": [
            "{0: 0, 1: -1, 2: -2, 3: -3, 4: -4, 5: -5, 6: -6, 7: -7, 8: -8}\n"
          ]
        }
      ]
    },
    {
      "cell_type": "markdown",
      "source": [
        "##Generator expressions\n",
        "The generator doesn't store the list in memory, and doesn't construct the list. <br> Instead, it creates a generator object which can be iterated over as required. <br>\n",
        "Generators can also use the same actions available to list comprehensions like <br> filtering and conditionals."
      ],
      "metadata": {
        "id": "g7DzyRHse7Qt"
      }
    },
    {
      "cell_type": "code",
      "source": [
        "result = (num for num in range(1,11))\n",
        "print(type(result))\n",
        "\n",
        "#Lists can be created by using the 'list()' function\n",
        "res_list = list(result)\n",
        "print(type(res_list))\n",
        "\n",
        "\"\"\"Creating new 'result' object as the previous 'list(result)' command iterated\n",
        "   through first 'result' generator object.\"\"\"\n",
        "\n",
        "result = (num for num in range(1,11))\n",
        "\n",
        "#'Lazy evaluation': eval of expression is delayed until needed\n",
        "print(next(result))\n",
        "print(next(result))\n"
      ],
      "metadata": {
        "colab": {
          "base_uri": "https://localhost:8080/"
        },
        "id": "fbA_oT2bdKy3",
        "outputId": "c685bbdb-8d0c-4a25-abd7-6114829e919d"
      },
      "execution_count": 39,
      "outputs": [
        {
          "output_type": "stream",
          "name": "stdout",
          "text": [
            "<class 'generator'>\n",
            "<class 'list'>\n",
            "1\n",
            "2\n"
          ]
        }
      ]
    },
    {
      "cell_type": "code",
      "source": [
        "lannister = ['cersei', 'jaime', 'tywin', 'tyrion', 'joffrey']\n",
        "\n",
        "def get_lengths(input_list: list) -> int:\n",
        "  \"\"\"Generator function that yields the length\n",
        "     of the strings in the input list\"\"\"\n",
        "\n",
        "  for person in input_list:\n",
        "    yield len(person)\n",
        "\n",
        "for value in get_lengths(lannister):\n",
        "  print(value)"
      ],
      "metadata": {
        "colab": {
          "base_uri": "https://localhost:8080/"
        },
        "id": "aPTCA94uf3QO",
        "outputId": "b09c75d5-27bf-4cb3-e4c7-06a01bdef565"
      },
      "execution_count": 42,
      "outputs": [
        {
          "output_type": "stream",
          "name": "stdout",
          "text": [
            "6\n",
            "5\n",
            "5\n",
            "6\n",
            "7\n"
          ]
        }
      ]
    },
    {
      "cell_type": "code",
      "source": [],
      "metadata": {
        "id": "N-kCZMjzjYox"
      },
      "execution_count": null,
      "outputs": []
    }
  ]
}