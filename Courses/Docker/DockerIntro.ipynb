{
  "nbformat": 4,
  "nbformat_minor": 0,
  "metadata": {
    "colab": {
      "provenance": [],
      "toc_visible": true
    },
    "kernelspec": {
      "name": "python3",
      "display_name": "Python 3"
    },
    "language_info": {
      "name": "python"
    }
  },
  "cells": [
    {
      "cell_type": "markdown",
      "source": [
        "#Chapter 1: What is Docker?"
      ],
      "metadata": {
        "id": "-4hRWK9XCtY3"
      }
    },
    {
      "cell_type": "markdown",
      "source": [
        "##Containers\n",
        "Portable computing environment which contains:\n",
        "<ul>\n",
        "  <li>Code</li>\n",
        "  <li>Dependencies</li>\n",
        "  <li>Configuration</li>\n",
        "</ul>\n",
        "\n",
        "Benefits of containers:\n",
        "<ul>\n",
        "  <li>reproducibility: run the same now and in the future</li>\n",
        "  <li>portability: run the same on different machines</li>\n",
        "  <li>security: limited access to pc. isolated from other containers</li>\n",
        "  <li>lightweight: use few resources</li>\n",
        "</ul>"
      ],
      "metadata": {
        "id": "9jGOZlyyC-aT"
      }
    },
    {
      "cell_type": "markdown",
      "source": [
        "##Docker Engine\n",
        "\n",
        "Create, run, and manage containers.<br>\n",
        "This course will not cover:\n",
        "<ul>\n",
        "  <li>docker Compose - a system for running multi-container docker apps</li>\n",
        "  <li>kubernetes: system for docker scheduling and management</li>\n",
        "</ul>\n",
        "\n",
        "Docker Engine comprised of:\n",
        "<ul>\n",
        "  <li>Docker client: CLI used to talk to the server </li>\n",
        "  <li>API</li>\n",
        "  <li>Docker daemon</li>\n",
        "</ul>\n",
        "\n",
        "Docker client is a command line interface (CLI) used to talk to the Docker server. The server (aka daemon) is a background process that requires no human interaction. API spec defines how the user as well as other software can intract with the daemon. The daemon manages all Docker objects (containers, images, etc.)\n",
        "\n",
        "The image is a blueprint for a container with all software. A continer is a running image.\n",
        "\n",
        "The process is only given access to a single folder in the host machine.\n",
        "\n",
        "Container runs its own OS different and separate from host OS and other containers.\n",
        "\n",
        "\n"
      ],
      "metadata": {
        "id": "r_e_ypXZEd0A"
      }
    },
    {
      "cell_type": "markdown",
      "source": [
        "##Container vs Virtual Machine\n",
        "\n",
        "Both containers adn VMs are virtualization technologies.\n",
        "\n",
        "Virtualization: resources (ram, cpu, etc.) can be split to look like separate resources.<br>\n",
        "Those resources can be allocated to separate processes so no overlap occurs.\n",
        "\n",
        "Containers\n",
        "<ul>\n",
        "  <li>virtualization occur in a software layer above the OS-level</li>\n",
        "  <li>possibile for hackers to get access to host OS/other containers</li>\n",
        "  <li>Much smaller size on disk compared to VMs</li>\n",
        "  <li>Only need part of OS as part of host OS is shared</li>\n",
        "  <li>Faster to start, stop, distribute, and update</li>\n",
        "  <li>Only support CLI apps</li>\n",
        "</ul>\n",
        "\n",
        "Virtual Machines\n",
        "<ul>\n",
        "  <li>virtualize the entire host machine down to the hardware</li>\n",
        "  <li>Higher security compared to containers</li>\n",
        "  <li>Much larger size on disk</li>\n",
        "  <li>Only need part of OS as part of host OS is shared</li>\n",
        "  <li>Supports GUI and CLI apps</li>\n",
        "</ul>"
      ],
      "metadata": {
        "id": "vHb7WSXWJMgR"
      }
    },
    {
      "cell_type": "markdown",
      "source": [
        "#Chapter 2: Using Docker Containers\n",
        "\n"
      ],
      "metadata": {
        "id": "LlNwFn8_Ljx1"
      }
    },
    {
      "cell_type": "markdown",
      "source": [
        "##Commands\n",
        "\n",
        "```\n",
        "nano <file-name> #open <file-name> in nano text editor\n",
        "touch <file-name> #create empty file with given name\n",
        "echo \"<text>\" #prints <text> to the console\n",
        "<command> >> <file> # pushes output of <command> to the end of <file>\n",
        "<command> -y # auto respond yes to all prompts from <command>\n",
        "```\n",
        "\n",
        "Every docker command begins with 'docker'\n",
        "\n",
        "```\n",
        "#Start the specified image\n",
        "docker run <image-name>\n",
        "\n",
        "#Start specified image with a interactive shell\n",
        "docker run -it <image-name>\n",
        "\n",
        "#Run a (detached) container in background without printing to shell\n",
        "docker run -d <image-name>\n",
        "\n",
        "#Exit a docker container\n",
        "docker exit\n",
        "\n",
        "#list running images with additional information\n",
        "docker ps\n",
        "\n",
        "#stop specified docker image\n",
        "docker stop <container-id> or <container-name>\n",
        "```\n",
        "\n",
        "NOTE: stopping a docker container does not remove it from disk space. mMst use 'rm' command (below)\n",
        "\n",
        "##More advanced commands\n",
        "\n",
        "```\n",
        "#Set a name for given container\n",
        "docker run --name <container-name> <image-name>\n",
        "\n",
        "#find a running container by name\n",
        "docker ps -f \"name=<container-name>\"\n",
        "\n",
        "#Find container output/log\n",
        "docker logs <container-id>\n",
        "\n",
        "#Use -f flag to follow a container's log\n",
        "dock logs -f <container-id>\n",
        "\n",
        "#Remove a stopped container\n",
        "docker container rm <container-id>\n",
        "```"
      ],
      "metadata": {
        "id": "lAlFia8lMJb5"
      }
    },
    {
      "cell_type": "markdown",
      "source": [
        "##Managing local project images\n",
        "\n",
        "Docker Hub contains many pre-made docker images.\n",
        "\n",
        "```\n",
        "#pull docker image from docker site\n",
        "docker pull <image-name>:<image-version>\n",
        "\n",
        "#pull image from other site\n",
        "dock pull <url-to-image>\n",
        "```\n",
        "\n",
        "If image version isn't specified, latest version will be pulled.\n",
        "\n",
        "```\n",
        "#List all available local images with info\n",
        "docker images\n",
        "\n",
        "#remove images (must not have any running containers of image)\n",
        "docker image rm <image-name>\n",
        "\n",
        "#remove all stopped containers\n",
        "docker container prune\n",
        "\n",
        "#remove all unused images\n",
        "docker image prune -a\n",
        "```\n",
        "Dangling image is an image that no longer has a name (e.g. name has been reused)\n",
        "\n",
        "\n"
      ],
      "metadata": {
        "id": "9VFEr0h_SFrh"
      }
    },
    {
      "cell_type": "markdown",
      "source": [
        "##Distributing Docker images\n",
        "\n",
        "Private docker registries: Not maintained by Docker - no guarantee of quality.\n",
        "\n",
        "```\n",
        "#push docker image to registry\n",
        "docker image push <image-name>\n",
        "\n",
        "#Image name must start w/ registry name. Rename with\n",
        "docker tag <iamge-name> <new-name-with-url>\n",
        "\n",
        "#Login to registry\n",
        "docker login <url>\n",
        "\n",
        "#send docker image as file (to specific people instead of a registry)\n",
        "docker save -o <image-name.tar> <image-name>\n",
        "\n",
        "#load an image from a file\n",
        "docker load -i <image-name.tar>\n",
        "```\n",
        "\n"
      ],
      "metadata": {
        "id": "_fjI8BbAUcCD"
      }
    },
    {
      "cell_type": "markdown",
      "source": [
        "#Chapter 3: Writing Docker images\n",
        "\n",
        "Dockerfile: textfile with instructions to create an image<br>\n",
        "Docker Image: blueprint to create a container.<br>\n",
        "Docker Container: a running image.\n",
        "\n",
        "Dockerfiles always start from another image\n",
        "\n",
        "FROM ubuntu:22.04\n",
        "\n",
        "```\n",
        "#Build docker image ffrom dockerfile. Use '.' if file in current directory\n",
        "docker build <path-to-dockerfile>\n",
        "\n",
        "#Can specify a name and version like below\n",
        "docker build -t <image-name>:<image-version> <path-to-dockerfile>\n",
        "```"
      ],
      "metadata": {
        "id": "N-VZqyAtXMWh"
      }
    },
    {
      "cell_type": "markdown",
      "source": [
        "##Customizing images\n",
        "\n",
        "From here can put usual shell commands to install specific software/packages\n",
        "in the dockerfile.\n",
        "\n",
        "```\n",
        "FROM ubuntu\n",
        "RUN apt-get update\n",
        "RUN apt-get install -y python3\n",
        "```"
      ],
      "metadata": {
        "id": "NIc7qZrbhErO"
      }
    },
    {
      "cell_type": "markdown",
      "source": [
        "##Managing files in an image\n",
        "\n",
        "```\n",
        "#Copy file from source/host to dest/image. If filename not specified, entire folder copied\n",
        "COPY <src-path-on-host> <dest-path-on-image>\n",
        "\n",
        "#Can also download files. Best to do following steps\n",
        "#Download the file\n",
        "RUN curl <file-url> -o <destination>\n",
        "\n",
        "#Unzip the file\n",
        "RUN unzip <dest-folder>/<filename>.zip\n",
        "\n",
        "#Remove original zip file\n",
        "RUN rm <copy_directory>/<filename>.zip\n",
        "```\n",
        "Each instruction adds to image size.<br>\n",
        "Best practice to combine these into single run instruction:\n",
        "\n",
        "```\n",
        "RUN curl <file-download-url> -o <destination-dir>/<filename>.zip \\\n",
        "&& unzip <destination-dir>/<filename>.zip -d <unzipped-directory> \\\n",
        "&& rm <destination_dir>/<filename>.zip\n",
        "```\n",
        "\n",
        "NOTE: docker can't access files from parent directory."
      ],
      "metadata": {
        "id": "ztRzd96WjxNc"
      }
    },
    {
      "cell_type": "markdown",
      "source": [
        "##Choosing a start command for a Docker image\n",
        "\n",
        "Can choose any shell command to execute when container is started.<br>\n",
        "CMD does not add to size of dockerfile. Only last CMD command will be run.\n",
        "\n",
        "```\n",
        "#run a python script\n",
        "CMD python3 my_pipeline.py\n",
        "\n",
        "#start a database\n",
        "CMD postgres\n",
        "```\n",
        "\n",
        "Typically run a script which starts other applications\n",
        "\n",
        "```\n",
        "CMD start.sh\n",
        "```\n",
        "\n",
        "##Overriding the start command\n",
        "\n",
        "```\n",
        "docker run <image> <shell-command>\n",
        "```\n",
        "\n",
        "Usually run image in interactive mode when overriding start command.\n",
        "\n",
        "```\n",
        "docker run -it <image> <shell-command>\n",
        "\n",
        "#example with ubuntu\n",
        "docker run -i ubuntu bash\n",
        "```"
      ],
      "metadata": {
        "id": "dl7TKpVQo4aI"
      }
    },
    {
      "cell_type": "markdown",
      "source": [
        "##Caching and Docker layers\n",
        "\n",
        "During a build the image tracks which command make which changes to which files.\n",
        "Can view an image as a consecutive list of changes to the filesystem.\n",
        "\n",
        "<b>Docker layer</b>: All changes caused by a single Dockerfile instuction.<br>\n",
        "\n",
        "Docker caches each of the changes made, and reuses layers which haven't changes from a previous build. Docker only reuses these if the current and all previous instructions haven't changed from the previous build.\n",
        "\n",
        "e.g. Docker won't know when a new version of python 3 has been released.<br>\n",
        "It will keep using the cached apt-get update/install python3 command.<br>\n",
        "\n",
        "Typically want to structure a Dockerfile's command in order from least to msot changing. This way as many cached commands will run as possible, saving time."
      ],
      "metadata": {
        "id": "q4Ffe79Itsbq"
      }
    },
    {
      "cell_type": "markdown",
      "source": [
        "#Chapter 4:Creating Secure Docker Images"
      ],
      "metadata": {
        "id": "rCcAwumXv450"
      }
    },
    {
      "cell_type": "markdown",
      "source": [
        "##Changing users and working directory\n",
        "\n",
        "WORKDIR: changes working directory in which subsequent commands are executed<br>\n",
        "USER: changes which user is executing the subsequent instructions<br>\n",
        "\n",
        "Best practice to use root user only to create other users and give them user-specific permissions. Then stop using root user.\n",
        "\n",
        "The last user instruction in the Dockerfile also sets the user for anyone running a container from the image."
      ],
      "metadata": {
        "id": "H1y0-Fxbv_Nj"
      }
    },
    {
      "cell_type": "markdown",
      "source": [
        "##Variables in Dockerfiles\n",
        "\n",
        "Less verbose, easier to change/update\n",
        "ARG changes behavior of Dockerfiles during the build.<br>\n",
        "ENV changes behavior at runtime. Not possible to override ENV at build time.<br>\n",
        "Can override ENV vars when starting a container from an image.\n",
        "```\n",
        "docker run --env <key>=<value> <image-name>\n",
        "```\n",
        "\n",
        "```\n",
        "ARG <var_name>=<var_value>\n",
        "ARG path=/home/repl\n",
        "\n",
        "#Use $ to access variable\n",
        "$path\n",
        "```\n",
        "\n",
        "The defined variables are only accessible in the Dockerfile.<br>\n",
        "Typical uses are python versions or filepaths.<br>\n",
        "Can overwrite a variable in the build command\n",
        "\n",
        "```\n",
        "docker build --build-arg project_folder=/repl/pipeline .\n",
        "```\n",
        "\n",
        "Can also create variables with ENV instruction. This allows changes at runtime\n",
        "\n",
        "```\n",
        "ENV <var_name>=<var_value>\n",
        "\n",
        "#Example\n",
        "ENV MODE production\n",
        "```\n",
        "\n",
        "These are not secret. Anyone can look at vars in a Dockerfile after image is built using\n",
        "``` docker history ```\n",
        "\n",
        "Commands run at build/start time can be found in the bash history of the host or image."
      ],
      "metadata": {
        "id": "fSIWBxswxjEE"
      }
    },
    {
      "cell_type": "markdown",
      "source": [
        "##Creating secure Docker images\n",
        "\n",
        "Following steps can make containers more secure:\n",
        "<ul>\n",
        "  <li>Start from a trusted image.</li>\n",
        "  <li>Update software to latest version in images manually as images on Docker</li>\n",
        "  <ul>\n",
        "    <li>not always completely up-to-date</li>\n",
        "  </ul>\n",
        "  <li>Keep images minimal - Install only essential packages</li>\n",
        "  <li>Make containers start as user with only specific permissions</li>\n",
        "</ul>"
      ],
      "metadata": {
        "id": "ny9uRGzq3gbE"
      }
    },
    {
      "cell_type": "markdown",
      "source": [
        "##Where to go from here\n",
        "\n",
        "<ul>\n",
        "  <li>More Dockerfile instructions</li>\n",
        "    <ul>\n",
        "      <li>ENTRYPOINT</li>\n",
        "      <li>HEALTHCHECK</li>\n",
        "      <li>EXPOSE</li>\n",
        "    </ul>\n",
        "  <li>Build image from scratch</li>\n",
        "  <li>Multi-stage builds</li>\n",
        "  <li>Networking: connect containers to a network</li>\n",
        "  <li>Volumes: access local/saved files in a new way</li>\n",
        "  <li>Docker Compose</li>\n",
        "  <li>Kubernetes</li>\n",
        "</ul>"
      ],
      "metadata": {
        "id": "F3mU7Tf-D0OW"
      }
    },
    {
      "cell_type": "code",
      "execution_count": 1,
      "metadata": {
        "id": "wLBD57q3BKV9"
      },
      "outputs": [],
      "source": []
    }
  ]
}